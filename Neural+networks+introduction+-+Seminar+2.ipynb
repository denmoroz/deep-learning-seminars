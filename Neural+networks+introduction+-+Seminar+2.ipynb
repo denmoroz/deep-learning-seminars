{
 "cells": [
  {
   "cell_type": "markdown",
   "metadata": {},
   "source": [
    "# Convolutional Neural Networks (CNNs)"
   ]
  },
  {
   "cell_type": "markdown",
   "metadata": {},
   "source": [
    "...history, MLP for images, idea of locality..."
   ]
  },
  {
   "cell_type": "markdown",
   "metadata": {},
   "source": [
    "Widely used in modern computer vision tasks:\n",
    "1. Classification\n",
    "2. Localization\n",
    "3. Segmentation\n",
    "4. Instance segmentation\n",
    "\n",
    "But not only:\n",
    "1. CNNs for sentence classification\n",
    "2. RCNNs for speech recognition\n",
    "3. ..."
   ]
  },
  {
   "cell_type": "markdown",
   "metadata": {},
   "source": [
    "### ImageNet accuracy evolution\n",
    "<img src=\"https://chaosmail.github.io/images/deep-learning/top1.png\">"
   ]
  },
  {
   "cell_type": "markdown",
   "metadata": {},
   "source": [
    "### CNNs for image classification\n",
    "\n",
    "Typical CNN architecture consists of following ingredients:\n",
    "\n",
    "1. 2D convolution layers\n",
    "2. Pooling layers (MaxPooling, AveragePooling)\n",
    "3. Some dense layers (maybe)\n",
    "4. BatchNorm / Dropout and etc."
   ]
  },
  {
   "cell_type": "markdown",
   "metadata": {},
   "source": [
    "Typical CNN architecture (VGG-19 network) looks like:\n",
    "<img src=\"https://www.cs.toronto.edu/~frossard/post/vgg16/vgg16.png\">\n",
    "<img src=\"http://blog.christianperone.com/wp-content/uploads/2016/01/vgg16arch.png\">"
   ]
  },
  {
   "cell_type": "markdown",
   "metadata": {},
   "source": [
    "# Convolution"
   ]
  },
  {
   "cell_type": "markdown",
   "metadata": {},
   "source": [
    "1-D convolution:\n",
    "$$(f * g)(t)=\\int_{-\\infty}^{\\infty}{f(\\tau)g(t-\\tau)d\\tau}=\\int_{-\\infty}^{\\infty}{f(t-\\tau)g(\\tau)d\\tau}$$\n",
    "\n",
    "Discrete 1-D convolution with finite support:\n",
    "$$(f * g)(t)=\\sum_{m=-M}^{M}{f(t-m)g(m)}=\\sum_{m=-M}^{M}{f_{t-m}g_{m}}$$\n",
    "\n",
    "2-D convolution:\n",
    "$$(f * g)(x, y)=\\int_{-\\infty}^{\\infty}\\int_{-\\infty}^{\\infty}{f(\\tau_1,\\tau_2)g(x-\\tau_1,y-\\tau_2)d\\tau_1d\\tau_2}$$\n",
    "\n",
    "Discrete 2-D convolution with finite support:\n",
    "$$(f * g)(x,y)=\\sum_{m=-M_1}^{M_1}\\sum_{n=-N_1}^{N_1}{f(m,n)g(x-m,y-n)}$$"
   ]
  },
  {
   "cell_type": "markdown",
   "metadata": {},
   "source": [
    "### 2D convolution visualization"
   ]
  },
  {
   "cell_type": "markdown",
   "metadata": {},
   "source": [
    "Convolution of image and some filter looks like:\n",
    "<img src=\"http://colah.github.io/posts/2014-07-Understanding-Convolutions/img/RiverTrain-ImageConvDiagram.png\">\n",
    "\n",
    "Or, with some numbers provided:\n",
    "<img src=\"https://docs.gimp.org/en/images/filters/examples/convolution-calculate.png\">\n",
    "\n",
    "Finally, animation:\n",
    "<img src=\"https://ujwlkarn.files.wordpress.com/2016/07/convolution_schematic.gif\">\n",
    "\n",
    "Examples of human-created filters:\n",
    "1. <b>Blur filter</b>\n",
    "<img src=\"https://docs.gimp.org/en/images/filters/examples/convolution-blur.png\">\n",
    "<img src=\"https://docs.gimp.org/en/images/filters/examples/generic-taj-convmatrix-blur.jpg\">\n",
    "2. <b>Edge detector filter</b>\n",
    "<img src=\"https://docs.gimp.org/en/images/filters/examples/convolution-edge-detect1.png\">\n",
    "<img src=\"https://docs.gimp.org/en/images/filters/examples/generic-taj-convmatrix-edge-detect.jpg\">\n",
    "3. <b>And many others in computer vision</b>"
   ]
  },
  {
   "cell_type": "markdown",
   "metadata": {},
   "source": [
    "### The key idea of CNNs is to learn such filters (their weights) directly from data\n",
    "1. Every convolution layer has a <b>bunch of filters</b> of predefined shape (look to example)\n",
    "2. All filters initialized randomly (as usual) \n",
    "3. We can calculate gradient with respect of filters params (not so easy, but we can)\n",
    "4. As the result, we'll learn filters from training set\n",
    "\n",
    "<b>Example</b>:  \n",
    "Suppose image of shape 224x224x<b>3</b> (height x width x colors = channels).  \n",
    "Then our first convolution layer may have shape of 64x5x5x<b>3</b> (filters count x filter height x filter width x previous layer channels).  \n",
    "And second convolution layer may have shape of 16x3x3x<b>64</b> (filters count x filter height x filter width x previous layer channels).\n",
    "\n",
    "So, the <b>last dimension is always = number of channels in previous layer</b>.\n",
    "\n",
    "### But in practice we also have two additional problems:\n",
    "1. Specify the <b>stride</b> of convolution  \n",
    "Do we always need to make a discrete step of one in spatial dimensions (step is called <b>stride</b>)?\n",
    "\n",
    "2. Use <b>padding</b> for filters or not  \n",
    "If we'll convolve 7x7x1 image with 3x3x1 filter we'll have 5x5x1 feature map (7x7 --> 5x5). In the result shape is <b>collapsing</b> rather rapidly and we can not build any deep architecture.\n",
    "\n",
    "The solution is to use padding (which depends on the shape of filters):\n",
    "<img src=\"https://upload.wikimedia.org/wikipedia/commons/4/4f/3D_Convolution_Animation.gif\">"
   ]
  },
  {
   "cell_type": "markdown",
   "metadata": {},
   "source": [
    "### Convolution and backpropagation\n",
    "\n",
    "We can efficiently (in computation terms) implement 2D convolution as matrix-matrix multiplication (im2col, col2im).  \n",
    "<b>There is no free cheese - posssible huge memory consumption.</b>\n",
    "\n",
    "Suppose we have 7 x 7 x 1 tensor (7x7 matrix) $X$:\n",
    "$$X = \\begin{bmatrix}\n",
    "    x_{11} & x_{12} & x_{13} & x_{14} & \\dots & x_{17} \\\\\n",
    "    x_{21} & x_{22} & x_{23} & x_{24} & \\dots & x_{27} \\\\\n",
    "    x_{31} & x_{32} & x_{33} & x_{34} & \\dots & x_{37} \\\\\n",
    "    \\dots & \\dots & \\dots & \\dots & \\dots & \\dots \\\\\n",
    "    x_{71} & x_{72} & x_{73} &x_{74} & \\dots & x_{77}\n",
    "\\end{bmatrix}$$\n",
    "\n",
    "And also we have 3 x 3 x 2 tensor of filters (or 3x3 matrices $W^{1}$ and $W^{2}$):\n",
    "\n",
    "$$W^{1} = \\begin{bmatrix}\n",
    "    w^{1}_{11} & w^{1}_{12} & w^{1}_{13} \\\\\n",
    "    w^{1}_{21} & w^{1}_{22} & w^{1}_{23} \\\\\n",
    "    w^{1}_{31} & w^{1}_{32} & w^{1}_{33}\n",
    "\\end{bmatrix}$$\n",
    "\n",
    "$$W^{2} = \\begin{bmatrix}\n",
    "    w^{2}_{11} & w^{2}_{12} & w^{2}_{13} \\\\\n",
    "    w^{2}_{21} & w^{2}_{22} & w^{2}_{23} \\\\\n",
    "    w^{2}_{31} & w^{2}_{32} & w^{2}_{33}\n",
    "\\end{bmatrix}$$\n",
    "\n",
    "We can rewrite convolution of $X$ with filters $W=\\{W^{1}, W^{2}\\}$ as matrix-matrix multiplication:\n",
    "\n",
    "$$\n",
    "\\bar{Z}_1 = \\bar{X} \\bar{W} = \n",
    "\\begin{bmatrix}\n",
    "    x_{11} & x_{12} & x_{13} & x_{21} & x_{22} & x_{23} & x_{31} & x_{32} & x_{33}  \\\\\n",
    "    x_{12} & x_{13} & x_{14} & x_{22} & x_{23} & x_{24} & x_{32} & x_{33} & x_{34}  \\\\\n",
    "    x_{13} & x_{14} & x_{15} & x_{23} & x_{24} & x_{25} & x_{33} & x_{34} & x_{35}  \\\\\n",
    "    \\dots & \\dots & \\dots & \\dots & \\dots & \\dots & \\dots & \\dots & \\dots \\\\\n",
    "    x_{55} & x_{56} & x_{57} & x_{65} & x_{66} & x_{67} & x_{75} & x_{76} & x_{77}\n",
    "\\end{bmatrix}\n",
    "*\n",
    "\\begin{bmatrix}\n",
    "    w^{1}_{11} & w^{2}_{11} \\\\\n",
    "    w^{1}_{12} & w^{2}_{12} \\\\\n",
    "    w^{1}_{13} & w^{2}_{13} \\\\\n",
    "    w^{1}_{21} & w^{2}_{21} \\\\\n",
    "    w^{1}_{22} & w^{2}_{22} \\\\\n",
    "    w^{1}_{23} & w^{2}_{23} \\\\\n",
    "    w^{1}_{31} & w^{2}_{31} \\\\\n",
    "    w^{1}_{32} & w^{2}_{32} \\\\\n",
    "    w^{1}_{33} & w^{2}_{33}\n",
    "\\end{bmatrix}\n",
    "$$\n",
    "\n",
    "and then reshape to appropriate form."
   ]
  },
  {
   "cell_type": "markdown",
   "metadata": {},
   "source": [
    "Let's construct the simpliest CNN for regression:\n",
    "\n",
    "$$f(x)=W_2 flatten(W_1 \\ast x + b_1)+b_2$$\n",
    "where \"$\\ast$\" is 2D discrete convolution.\n",
    "\n",
    "As we describe convolution as matrix-matrix multiplication we can use <b>the same form of backpropagation</b> algorithm:\n",
    "\n",
    "$$\\frac{\\partial{L}}{\\partial{W_2}} = \\frac{1}{N}\\sum_{(x_j, y_j)}{(a_2(x_j)-y_j)*a_1(x_j)}$$\n",
    "$$\\frac{\\partial{L}}{\\partial{W_1}} = \\frac{1}{N}\\sum_{(x_j, y_j)}{(a_2(x_j)-y_j)*W_2*f'_1(\\bar{Z}_1)*\\bar{X}}$$\n",
    "\n",
    "And then carefully change dimensions."
   ]
  },
  {
   "cell_type": "code",
   "execution_count": 30,
   "metadata": {
    "collapsed": true
   },
   "outputs": [],
   "source": [
    "import matplotlib.pyplot as plt\n",
    "%matplotlib inline"
   ]
  },
  {
   "cell_type": "code",
   "execution_count": 31,
   "metadata": {
    "collapsed": true
   },
   "outputs": [],
   "source": [
    "import numpy as np\n",
    "\n",
    "def relu(z):\n",
    "    return np.maximum(0, z)\n",
    "\n",
    "def drelu(z):\n",
    "    x = z.copy()\n",
    "    x[x < 0] = 0\n",
    "\n",
    "    return x\n",
    "\n",
    "def convolve2d_forward(input_tensor, filter_tensor, biases):\n",
    "    h, w, channels_num = input_tensor.shape\n",
    "    q, p, _, filters_num = filter_tensor.shape\n",
    "\n",
    "    h_out, w_out = h - q + 1, w - p + 1\n",
    "    W = filter_tensor.reshape(filters_num, -1)\n",
    "\n",
    "    X = []\n",
    "    for i in range(h - q + 1):\n",
    "        for j in range(w - p + 1):\n",
    "            receptive_field = input_tensor[i:(i+p), j:(j+q), :].reshape(-1)\n",
    "            X.append(receptive_field)\n",
    "\n",
    "    X_reshaped = np.array(X, dtype=np.float32)\n",
    "    \n",
    "    # Numpy broadcasting works here\n",
    "    out = np.dot(X_reshaped, W.T) + biases\n",
    "    out = out.reshape(h_out, w_out, filters_num)\n",
    "\n",
    "    return out, X_reshaped\n",
    "\n",
    "def forward_pass():\n",
    "    Z1, X_col = convolve2d_forward(X, W1, b1)\n",
    "    \n",
    "    A1 = relu(Z1)\n",
    "    A1_flatten = A1.flatten()\n",
    "    \n",
    "    A2 = np.dot(W2, A1_flatten) + b2\n",
    "    \n",
    "    return {'Z1': Z1, 'A1': A1, 'A2': A2, 'X_col': X_col}\n",
    "\n",
    "def backward_pass(fwd):\n",
    "    dL_da2 = (fwd['A2'] - Y)\n",
    "    delta_2 = dL_da2\n",
    "    \n",
    "    dL_db2 = np.sum(delta_2)\n",
    "    dL_dW2 = fwd['A1'].flatten() * dL_da2\n",
    "    assert dL_dW2.shape == W2.shape\n",
    "    \n",
    "    Z1 = fwd['Z1']\n",
    "    delta_1 = delta_2 * W2.reshape(Z1.shape) * drelu(Z1)\n",
    "    dL_db1 = np.sum(delta_1)\n",
    "    \n",
    "    N, M, C = delta_1.shape\n",
    "    dL_dW1 = np.dot(fwd['X_col'].T, delta_1.reshape(N * M, C))\n",
    "    dL_dW1 = dL_dW1.reshape(W1.shape)\n",
    "    assert dL_dW1.shape == W1.shape\n",
    "\n",
    "    return {'dW2': dL_dW2, 'db2': dL_db2, 'dW1': dL_dW1, 'db1': dL_db1}"
   ]
  },
  {
   "cell_type": "code",
   "execution_count": 92,
   "metadata": {
    "collapsed": false
   },
   "outputs": [],
   "source": [
    "filters_num = 2\n",
    "\n",
    "X = np.random.randn(7, 7, 3)\n",
    "Y = 5\n",
    "\n",
    "W1 = 0.05 * np.random.randn(3, 3, 3, filters_num)\n",
    "b1 = 0.01 * np.ones(shape=filters_num)\n",
    "\n",
    "W2 = 0.05 * np.random.randn(5 * 5 * filters_num)\n",
    "b2 = 0.01"
   ]
  },
  {
   "cell_type": "code",
   "execution_count": 93,
   "metadata": {
    "collapsed": false
   },
   "outputs": [
    {
     "name": "stdout",
     "output_type": "stream",
     "text": [
      "24.833745021\n",
      "23.5608116346\n",
      "22.3667016556\n",
      "21.1947892953\n",
      "19.9857302224\n",
      "18.6261840479\n",
      "17.0982253279\n",
      "15.3034804918\n",
      "13.1404833442\n",
      "10.511585915\n",
      "7.57390614058\n",
      "4.64194647994\n",
      "2.2380875482\n",
      "0.777468891413\n",
      "0.184760162317\n",
      "0.0311578434725\n",
      "0.00420299701812\n",
      "0.000509901805082\n",
      "5.93384701655e-05\n",
      "6.80347298917e-06\n",
      "Predicted value: 4.99739165321\n"
     ]
    }
   ],
   "source": [
    "num_iter = 20\n",
    "learning_rate = 0.01\n",
    "\n",
    "for i in range(num_iter):\n",
    "    forward_cache = forward_pass()\n",
    "    print((Y - forward_cache['A2'])**2)\n",
    "    \n",
    "    gradients = backward_pass(forward_cache)\n",
    "    \n",
    "    W1 -= learning_rate * gradients['dW1']\n",
    "    b1 -= learning_rate * gradients['db1']\n",
    "    \n",
    "    W2 -= learning_rate * gradients['dW2']\n",
    "    b2 -= learning_rate * gradients['db2']\n",
    "\n",
    "print('Predicted value: %s' % forward_cache['A2'])"
   ]
  },
  {
   "cell_type": "code",
   "execution_count": 94,
   "metadata": {
    "collapsed": false
   },
   "outputs": [
    {
     "data": {
      "image/png": "[encoded data removed]",
      "text/plain": [
       "<matplotlib.figure.Figure at 0x6e319945cc18>"
      ]
     },
     "metadata": {},
     "output_type": "display_data"
    },
    {
     "data": {
      "image/png": "[encoded data removed]",
      "text/plain": [
       "<matplotlib.figure.Figure at 0x6e319940feb8>"
      ]
     },
     "metadata": {},
     "output_type": "display_data"
    },
    {
     "data": {
      "image/png": "[encoded data removed]",
      "text/plain": [
       "<matplotlib.figure.Figure at 0x6e31992af940>"
      ]
     },
     "metadata": {},
     "output_type": "display_data"
    }
   ],
   "source": [
    "plt.imshow(X)\n",
    "plt.show()\n",
    "\n",
    "for filter_num in range(W1.shape[3]): \n",
    "    plt.imshow(W1[:, :, :, filter_num], interpolation='nearest')\n",
    "    plt.colorbar()\n",
    "    plt.show()"
   ]
  },
  {
   "cell_type": "markdown",
   "metadata": {},
   "source": [
    "<b>In real life each convolution layer adding complexity of representation.</b>\n",
    "\n",
    "We can visualise first layer of pretrained network (AlexNet) and look on filters (which works directly with image pixels):\n",
    "<img src=\"http://cs231n.github.io/assets/cnnvis/filt1.jpeg\">\n",
    "\n",
    "Deeper layers works with activations of previous and it is not so easy to figure out how they combine information of previous layers, but some techniques exists."
   ]
  },
  {
   "cell_type": "markdown",
   "metadata": {},
   "source": [
    "### Alternative way: DFT\n",
    "\n",
    "Discrete Fourier Transform looks like:\n",
    "$$X_k=\\sum_{n=0}^{N-1}{x_n e^{-2\\pi ikn/N}}$$\n",
    "$$k \\in Z$$\n",
    "\n",
    "And has a nice property called <b>convolution theorem</b>:\n",
    "$$F\\{f*g\\}=F\\{f\\} F\\{g\\}$$\n",
    "$$f*g=F^{-1}\\{F\\{f\\} F\\{g\\}\\}$$\n",
    "\n",
    "So, we can calculate convolution of image and filters in three steps:\n",
    "1. Apply fourier transform to image and filters\n",
    "2. Apply elementwise multiplication\n",
    "3. Apply inverse fourier transform\n",
    "\n",
    "In practice, it has benefits for <b>wide filters</b> (7x7 and greater) and <b>FFT</b> (Fast Fourier Transform)."
   ]
  },
  {
   "cell_type": "code",
   "execution_count": 95,
   "metadata": {
    "collapsed": true
   },
   "outputs": [],
   "source": [
    "# TODO: add implementation"
   ]
  },
  {
   "cell_type": "markdown",
   "metadata": {},
   "source": [
    "# Receptive field of convolution filter\n",
    "\n",
    "Interesting question is to use wide filter (for example, 7x7) or a narrower one (3x3)?  \n",
    "In general, the answer for images is - <b>use a couple of narrower instead of a single wide filter</b>.\n",
    "\n",
    "<img src=\"http://blog.cvmarcher.com/posts/2015/05/17/cnn-trick/receptive_field.jpg\">\n",
    "\n",
    "### For 3x3 convolution:\n",
    "<img src=\"https://leonardoaraujosantos.gitbooks.io/artificial-inteligence/content/image_folder_3/CascadingConvolutions.png\">\n",
    "\n",
    "### Exception example: Spectrograms\n",
    "Spectrogram is an \"image\" generated from audio signal with WDFT technique (or some others).\n",
    "\n",
    "<img src=\"https://www.researchgate.net/profile/Corrado_Cescon/publication/234140875/figure/fig3/AS:196016939769859@1423745488412/Raw-audio-signal-above-detected-during-a-C1-2-HVLA-thrust-manipulation-and-the.png\">\n",
    "\n",
    "<b>In such tasks you possibly need to use rectangular filters (wider in frequency domain).</b>"
   ]
  },
  {
   "cell_type": "markdown",
   "metadata": {},
   "source": [
    "# Pooling\n",
    "\n",
    "1. Pooling layer downsamples the volume spatially\n",
    "2. <b>Hasn't any learnable parameters</b>\n",
    "3. You can implement pooling with different math operations: min, max, average and etc.\n",
    "4. Two main characteristics of pooling are <b>shape</b> and <b>stride</b>\n",
    "5. Some people don't like pooling operations and decide to use only convolutional layers with bigger stride (shown, that it is critical in some architectures like GANs).\n",
    "\n",
    "### Downsampling\n",
    "<img src=\"http://cs231n.github.io/assets/cnn/pool.jpeg\">\n",
    "\n",
    "### Max pooling:\n",
    "<img src=\"http://cs231n.github.io/assets/cnn/maxpool.jpeg\">\n",
    "\n",
    "### Average pooling:\n",
    "1. Average pooling was often used historically\n",
    "2. Nowadays <b>max pooling operation is prefered</b> cause it has been shown to work better in practice"
   ]
  },
  {
   "cell_type": "code",
   "execution_count": 96,
   "metadata": {
    "collapsed": true
   },
   "outputs": [],
   "source": [
    "# TODO: implement backprop for max pooling"
   ]
  },
  {
   "cell_type": "markdown",
   "metadata": {},
   "source": [
    "# Common architectures: VGG16 / VGG19\n",
    "Classical CNN architecture nowadays.\n",
    "<img src=\"http://html.scirp.org/file/4-7800353x6.png\">\n",
    "\n",
    "### Memory consumption analysis:\n",
    "<img src=\"http://nmhkahn.github.io/assets/Casestudy-CNN/vgg-arch3.png\">\n",
    "\n",
    "<b>Main memory issues:</b>\n",
    "1. Bottleneck \"CONV3_512 -> FC1\" ~ 100M paramaters\n",
    "2. Stride = 1 in first convolutions - 3.2Mb memory for 224x224x3 image"
   ]
  },
  {
   "cell_type": "markdown",
   "metadata": {},
   "source": [
    "# Common architectures: Inception v3\n",
    "\n",
    "1. Much more complex architecture\n",
    "2. Uses a lot of interesting tricks to reduce amount of parameters and increase nonlinearity of model\n",
    "3. Consists not simply of \"convolutional-pooling\" blocks (layers) but of complex \"Inception blocks\"\n",
    "<img src=\"https://raw.githubusercontent.com/iamaaditya/iamaaditya.github.io/master/images/inception_1x1.png\">"
   ]
  },
  {
   "cell_type": "markdown",
   "metadata": {},
   "source": [
    "# Modern architectures tricks\n",
    "1. Factorize 3x3 convolution as 3x1 convolution + 1x3 convolution (9 weights -> 6 weights + more nonlinearity)\n",
    "2. 1x1 convolutions is like weighted averaging of filters activations \n",
    "3. Global averagre pooling layer instead of flatten + dense layer (spatially average 8x8x128 filter activation to 1x1x128)\n",
    "4. Use BatchNormalization for better gradients flow"
   ]
  },
  {
   "cell_type": "markdown",
   "metadata": {},
   "source": [
    "# Finetuning\n",
    "1. Finetuning of networks is the process when you use knowledge derived from solving similar tasks to solve a new one\n",
    "2. In context of CNNs that means \"<b>initialize the part of your filters with filters of other model (trained on ImageNet for example)</b>\"\n",
    "3. First convolutions always learns filters like \"lines\" and \"color blobs\", futher layers can recognize more complex structures\n",
    "4. <b>Be careful with learning rate if work with pretrained layers</b>\n",
    "\n",
    "There are 3 main strategies:\n",
    "1. Use pretrained network as feature extractor (extract features with VGG19 and build classifier on top of them)\n",
    "2. Continue to train last few layers to fit your data better\n",
    "3. Continue to train the whole network\n",
    "\n",
    "The decision depend on <b>amount of data</b> and <b>content of your data</b>."
   ]
  },
  {
   "cell_type": "markdown",
   "metadata": {},
   "source": [
    "# Example: Tuning VGG16"
   ]
  },
  {
   "cell_type": "code",
   "execution_count": 117,
   "metadata": {
    "collapsed": false
   },
   "outputs": [],
   "source": [
    "import h5py\n",
    "\n",
    "import keras\n",
    "import keras.backend as K\n",
    "\n",
    "# For sequential kind of thinking (layers)\n",
    "from keras.models import Sequential\n",
    "from keras.layers import Input, Convolution2D, MaxPooling2D, Dense, Flatten\n",
    "\n",
    "# For graph kind of thinking (blocks)\n",
    "from keras.models import Model\n",
    "from keras.layers import merge"
   ]
  },
  {
   "cell_type": "code",
   "execution_count": 118,
   "metadata": {
    "collapsed": true
   },
   "outputs": [],
   "source": [
    "def initialize_vgg_layers(model):\n",
    "    with h5py.File(VGG_WEIGHTS, 'r') as f:\n",
    "        for layer_name, layer_group in f.items():\n",
    "            if len(layer_group) != 0:\n",
    "                W = layer_group[layer_name + '_W_1:0']\n",
    "                b = layer_group[layer_name + '_b_1:0']\n",
    "                \n",
    "                layer = model.get_layer(layer_name)\n",
    "                if layer is not None:\n",
    "                    print('Setting up weights for layer %s' % layer_name)\n",
    "                    layer.set_weights([W, b])\n",
    "\n",
    "    \n",
    "def truncated_vgg_encoder(input_shape, convs_1x1, dense_size):\n",
    "    encoder = Sequential()\n",
    "    # Block 1\n",
    "    encoder.add(Convolution2D(64, 3, 3, activation='relu', border_mode='same', name='block1_conv1', trainable=False, input_shape=input_shape))\n",
    "    encoder.add(Convolution2D(64, 3, 3, activation='relu', border_mode='same', name='block1_conv2', trainable=False))\n",
    "    encoder.add(MaxPooling2D((2, 2), strides=(2, 2), name='block1_pool'))\n",
    "\n",
    "    # Block 2\n",
    "    encoder.add(Convolution2D(128, 3, 3, activation='relu', border_mode='same', name='block2_conv1', trainable=False))\n",
    "    encoder.add(Convolution2D(128, 3, 3, activation='relu', border_mode='same', name='block2_conv2', trainable=False))\n",
    "    encoder.add(MaxPooling2D((2, 2), strides=(2, 2), name='block2_pool'))\n",
    "\n",
    "    # Block 3\n",
    "    encoder.add(Convolution2D(256, 3, 3, activation='relu', border_mode='same', name='block3_conv1', trainable=False))\n",
    "    encoder.add(Convolution2D(256, 3, 3, activation='relu', border_mode='same', name='block3_conv2', trainable=False))\n",
    "    encoder.add(Convolution2D(256, 3, 3, activation='relu', border_mode='same', name='block3_conv3', trainable=False))\n",
    "    encoder.add(MaxPooling2D((2, 2), strides=(2, 2), name='block3_pool'))\n",
    "\n",
    "    # Block 4\n",
    "    encoder.add(Convolution2D(512, 3, 3, activation='relu', border_mode='same', name='block4_conv1', trainable=False))\n",
    "    encoder.add(Convolution2D(512, 3, 3, activation='relu', border_mode='same', name='block4_conv2', trainable=False))\n",
    "    encoder.add(Convolution2D(512, 3, 3, activation='relu', border_mode='same', name='block4_conv3', trainable=False))\n",
    "    encoder.add(MaxPooling2D((2, 2), strides=(2, 2), name='block4_pool'))\n",
    "\n",
    "    # Block 5\n",
    "    encoder.add(Convolution2D(512, 3, 3, activation='relu', border_mode='same', name='block5_conv1', trainable=True))\n",
    "    encoder.add(Convolution2D(512, 3, 3, activation='relu', border_mode='same', name='block5_conv2', trainable=True))\n",
    "    encoder.add(Convolution2D(512, 3, 3, activation='relu', border_mode='same', name='block5_conv3', trainable=True))\n",
    "    encoder.add(MaxPooling2D((2, 2), strides=(2, 2), name='block5_pool'))\n",
    "    \n",
    "    # Filters bottleneck\n",
    "    encoder.add(Convolution2D(convs_1x1, 1, 1, activation='relu', name='convs_1x1'))\n",
    "    encoder.add(Flatten(name='flatten'))\n",
    "    \n",
    "    encoder.add(Dense(dense_size, activation='relu', name='encoder_fc'))\n",
    "    \n",
    "    # Initialize pretrained VGG layers\n",
    "    # initialize_vgg_layers(encoder)\n",
    "    \n",
    "    return encoder\n",
    "\n",
    "\n",
    "def build_model(image_shape, convs_1x1, encoder_dense_size, classifier_dense_size):\n",
    "    first_image_input = Input(shape=image_shape, name='first_image_input')\n",
    "    second_image_input = Input(shape=image_shape, name='second_image_input')\n",
    "    \n",
    "    image_encoder = truncated_vgg_encoder(image_shape, convs_1x1, encoder_dense_size)\n",
    "    \n",
    "    first_image_vector = image_encoder(first_image_input)\n",
    "    second_image_vector = image_encoder(second_image_input)\n",
    "    \n",
    "    merged_vectors = merge([first_image_vector, second_image_vector], mode='concat')\n",
    "    \n",
    "    dense_layer = Dense(classifier_dense_size, activation='relu')(merged_vectors)\n",
    "    dense_layer = Dense(classifier_dense_size, activation='relu')(dense_layer)\n",
    "\n",
    "    output_proba = Dense(1, activation='sigmoid')(dense_layer)\n",
    "    \n",
    "    model = Model(\n",
    "        input=[first_image_input, second_image_input],\n",
    "        output=output_proba\n",
    "    )\n",
    "    \n",
    "    return model"
   ]
  },
  {
   "cell_type": "code",
   "execution_count": 120,
   "metadata": {
    "collapsed": false
   },
   "outputs": [],
   "source": [
    "convs_1x1 = 128\n",
    "encoder_dense_size = 256\n",
    "classifier_dense_size = 512\n",
    "\n",
    "img_width, img_height = 112, 92\n",
    "\n",
    "if K.image_dim_ordering() == 'th':\n",
    "    image_shape = (3, img_width, img_height)\n",
    "else:\n",
    "    image_shape = (img_width, img_height, 3)\n",
    "    \n",
    "learning_rate = 0.001\n",
    "batch_size = 20\n",
    "\n",
    "model = build_model(image_shape, convs_1x1, encoder_dense_size, classifier_dense_size)"
   ]
  }
 ],
 "metadata": {
  "anaconda-cloud": {},
  "kernelspec": {
   "display_name": "Python [Root]",
   "language": "python",
   "name": "Python [Root]"
  },
  "language_info": {
   "codemirror_mode": {
    "name": "ipython",
    "version": 3
   },
   "file_extension": ".py",
   "mimetype": "text/x-python",
   "name": "python",
   "nbconvert_exporter": "python",
   "pygments_lexer": "ipython3",
   "version": "3.5.2"
  }
 },
 "nbformat": 4,
 "nbformat_minor": 0
}
