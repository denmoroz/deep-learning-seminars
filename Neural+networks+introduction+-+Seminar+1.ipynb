{
 "cells": [
  {
   "cell_type": "code",
   "execution_count": 37,
   "metadata": {
    "collapsed": false,
    "nbpresent": {
     "id": "2057addc-18ed-4077-b728-82a80197fdb6"
    },
    "slideshow": {
     "slide_type": "skip"
    }
   },
   "outputs": [],
   "source": [
    "import math\n",
    "import numpy as np\n",
    "\n",
    "import matplotlib.pyplot as plt\n",
    "%matplotlib inline\n",
    "\n",
    "import keras\n",
    "from keras import backend as K\n",
    "from keras.layers import Dense, Input\n",
    "from keras.models import Model\n",
    "\n",
    "from IPython.display import Image\n",
    "\n",
    "from sklearn.datasets import make_classification, make_regression"
   ]
  },
  {
   "cell_type": "markdown",
   "metadata": {
    "nbpresent": {
     "id": "61f711e6-564f-421d-8688-5e083236e920"
    },
    "slideshow": {
     "slide_type": "slide"
    }
   },
   "source": [
    "# Today \n",
    "\n",
    "1. Introduction: from biological view to <b>computation graph</b>\n",
    "2. <b>Logistic regression</b> as the simplest form of NN\n",
    "3. One step deeper: <b>fully connected layers</b>\n",
    "4. Common <b>activation functions</b>\n",
    "5. Training with <b>gradient descent</b>\n",
    "6. <b>Relugarization</b> techniques\n",
    "7. Some fun with <b>initializations</b>\n",
    "8. Articles    "
   ]
  },
  {
   "cell_type": "markdown",
   "metadata": {
    "collapsed": false,
    "nbpresent": {
     "id": "ba86bf3b-ccff-460f-829a-13d227aa7f71"
    },
    "slideshow": {
     "slide_type": "slide"
    }
   },
   "source": [
    "<img src=\"http://www.psychologyinaction.org/wp-content/uploads/2011/04/neuron11.jpg\">"
   ]
  },
  {
   "cell_type": "markdown",
   "metadata": {
    "nbpresent": {
     "id": "265edee9-a199-4837-a73f-dc2592163bd9"
    },
    "slideshow": {
     "slide_type": "slide"
    }
   },
   "source": [
    "# Mathematical model of biological neuron\n",
    "\n",
    "$$a = f(w^Tx + b)$$\n",
    "\n",
    "1. $x \\in R^n$ - input signal values\n",
    "2. $w \\in R^n$ - weights \n",
    "3. $b \\in R$ - bias term  \n",
    "4. $f(z)$ - activation function  \n",
    "5. $a \\in R$ - neuron output value"
   ]
  },
  {
   "cell_type": "markdown",
   "metadata": {
    "nbpresent": {
     "id": "d8a6a19b-8603-401a-88c9-7d2468b02fc5"
    },
    "slideshow": {
     "slide_type": "subslide"
    }
   },
   "source": [
    "## Better to think in terms of computation graph\n",
    "<img src=\"http://ischlag.github.io/images/graph_example.png\">"
   ]
  },
  {
   "cell_type": "markdown",
   "metadata": {
    "collapsed": false,
    "nbpresent": {
     "id": "862f7f3d-c36e-4aab-b806-e69c0ccf4ac0"
    },
    "slideshow": {
     "slide_type": "subslide"
    }
   },
   "source": [
    "## Graphs may be huge and intractable from biological side of view\n",
    "<img src='http://bamos.github.io/data/2016-08-09/tensorboard-graph.gif'>"
   ]
  },
  {
   "cell_type": "markdown",
   "metadata": {
    "nbpresent": {
     "id": "c6526ce3-7069-4362-acee-981e9f34dfa3"
    },
    "slideshow": {
     "slide_type": "slide"
    }
   },
   "source": [
    "# Recap: Logistic regression\n",
    "\n",
    "$$a = \\sigma(w^Tx+b)$$\n",
    "\n",
    "1. $a \\in [0, 1]$ - probability $P(y=1|x)$\n",
    "2. $x \\in R^n$ - input features\n",
    "3. $w \\in R^n$, $b \\in R$ - unknown parameters\n",
    "4. $\\sigma(z) = \\frac{1}{1+exp(-z)}$ - sigmoid activation function\n",
    "5. $\\sigma(z)$ properties:  \n",
    "$\\lim_{z \\to -\\infty} \\sigma(z) = 0$   \n",
    "$\\lim_{z \\to \\infty} \\sigma(z) = 1$  \n",
    "$\\sigma(0) = \\frac{1}{2}$  \n",
    "\n",
    "### Solution steps:\n",
    "1. Define loss function: <b>log loss</b>  \n",
    "2. Choose initial initialization of $w$, $b$: <b>zeros</b>  \n",
    "3. Choose optimization algorithm: <b>gradient descent / L-BFGS</b>"
   ]
  },
  {
   "cell_type": "markdown",
   "metadata": {
    "nbpresent": {
     "id": "1ad82675-3494-41fd-b560-641059678ab3"
    },
    "slideshow": {
     "slide_type": "slide"
    }
   },
   "source": [
    "# Loss function for classification: cross-entropy\n",
    "\n",
    "1. Suppose we have a discrete random variable $A$ with outcomes ${A_1, A_2, A_3}$ and probabilites ${p_1, p_2, p_3}$\n",
    "2. If event $A_j$ occurres with probability $p_j$ then \"<b>information value</b>\" of $A_j$ (\"surprise of seeing\" $A_j$) is defined as $$I(A_j)=-log(p_j)$$\n",
    "3. <b>Entropy</b> - is the expectation of \"surprise\" about outcomes of random variable $A$ $$H(p) = -\\sum{p_j*log(p_j)}$$\n",
    "4. <b>Cross-entropy</b> - is the expectation of \"surprise\" about outcomes of $A$ if we use <b>approximation</b> ${q_1, q_2, q_3}$ instead of ${p_1, p_2, p_3}$: $$H(p, q) = -\\sum{p_j*log(q_j)}$$\n",
    "\n",
    "So, <b>lower</b> cross-entropy means <b>better</b> approximation"
   ]
  },
  {
   "cell_type": "markdown",
   "metadata": {
    "nbpresent": {
     "id": "69839211-e0c0-4609-aa5c-eabb500a190f"
    },
    "slideshow": {
     "slide_type": "subslide"
    }
   },
   "source": [
    "### Binary cross-entropy (log loss)\n",
    "$$l(\\theta\\|x_j,y_j)=-(y_j*log(P(y=1\\|\\theta,x_j))+(1-y_j)*log(1-P(y=1\\|\\theta,x_j)))$$\n",
    "$$L(\\theta\\|X,Y)=\\sum_{(x_j, y_j)}{l(\\theta\\|x_j,y_j)}$$\n",
    "$$x_j \\in R^n, y_j \\in \\{0,1\\}=B^2$$\n",
    "\n",
    "### Categorical cross-entropy\n",
    "$$l(\\theta\\|x_j,y_j)=-\\sum_{l=1}^{K}{y_{j,l}*log(P(y=y_{j,l}\\|\\theta,x_j))}$$\n",
    "$$L(\\theta\\|X, Y)=\\sum_{(x_j, y_j)}{l(\\theta\\|x_j, y_j)}$$\n",
    "$$x_j \\in R^n, y_j \\in B^K$$\n",
    "\n",
    "### In real life\n",
    "1. from keras.objectives import binary_crossentropy  \n",
    "2. from keras.objectives import categorical_crossentropy \n",
    "3. ..."
   ]
  },
  {
   "cell_type": "markdown",
   "metadata": {
    "nbpresent": {
     "id": "ba2db324-6f99-4389-965d-730953593008"
    },
    "slideshow": {
     "slide_type": "slide"
    }
   },
   "source": [
    "# Gradient descent for Logistic Regression\n",
    "\n",
    "The loss takes the form:\n",
    "$$L(w\\|X,Y)=\\sum_{(x_j, y_j)}{l(w\\|x_j,y_j)}=-\\sum_{(x_j, y_j)}{(y_j*log(\\sigma(w^Tx_j))+(1-y_j)*log(1-\\sigma(w^Tx_j)))}$$\n",
    "\n",
    "Taking derivative using chain rule:\n",
    "\n",
    "$$\\frac{\\partial{L(w\\|X,Y)}}{\\partial{w}} = -\\sum_{(x_j, y_j)}{\\frac{\\partial{l(\\sigma(w,x_j),y_j)}}{\\partial{w}}} = -\\sum_{(x_j, y_j)}{\\frac{\\partial{l(\\sigma(w,x_j),y_j)}}{\\partial{\\sigma(w, x_j)}}*\\frac{\\partial{\\sigma(w,x_j)}}{\\partial{w}}}$$\n",
    "\n",
    "Step of gradient descent:\n",
    "\n",
    "$$w^{(k+1)} = w^{(k)} - \\alpha_{k+1} * \\frac{\\partial{L(w\\|X,Y)}}{\\partial{w}}$$\n",
    "\n",
    "Hyperparameter $\\alpha$ is called \"<b>learning rate</b>\":\n",
    "\n",
    "1. constant (0.1 - 0.000001)\n",
    "2. $\\alpha_{k} \\rightarrow 0$, $k \\rightarrow \\infty$\n",
    "3. $\\alpha_{k} = \\underset{\\alpha \\in [0, \\infty)}{argmin}L(w^{(k)}-\\alpha * \\nabla{L(w^{(k)})})$"
   ]
  },
  {
   "cell_type": "code",
   "execution_count": 33,
   "metadata": {
    "collapsed": false,
    "nbpresent": {
     "id": "d4475d03-4dcd-44bc-ac64-74cf28c7e7f1"
    },
    "slideshow": {
     "slide_type": "subslide"
    }
   },
   "outputs": [
    {
     "name": "stdout",
     "output_type": "stream",
     "text": [
      "Iter: 0, Loss: 47.0019119753, Loss delta: 22.3128060807\n",
      "Iter: 10, Loss: 41.1067750071, Loss delta: 0.214315871762\n",
      "Iter: 20, Loss: 39.7564688892, Loss delta: 0.0951100012265\n",
      "Iter: 30, Loss: 39.0419093682, Loss delta: 0.0569458268058\n",
      "Iter: 40, Loss: 38.5820020081, Loss delta: 0.0387385101504\n",
      "Iter: 50, Loss: 38.2555065422, Loss delta: 0.0284559136312\n",
      "Iter: 60, Loss: 38.0084184298, Loss delta: 0.0220599862764\n",
      "Iter: 70, Loss: 37.8125512231, Loss delta: 0.017804034876\n",
      "Iter: 80, Loss: 37.6517313041, Loss delta: 0.0148215452631\n",
      "Iter: 90, Loss: 37.5160286404, Loss delta: 0.0126428579098\n",
      "Iter: 100, Loss: 37.3990160794, Loss delta: 0.0109960772465\n",
      "Iter: 110, Loss: 37.2963511742, Loss delta: 0.00971528240613\n",
      "Iter: 120, Loss: 37.2049931592, Loss delta: 0.00869471289206\n",
      "Iter: 130, Loss: 37.1227472364, Loss delta: 0.00786443369265\n",
      "Iter: 140, Loss: 37.0479873913, Loss delta: 0.00717672583681\n",
      "Iter: 150, Loss: 36.9794813436, Loss delta: 0.00659813408966\n",
      "Iter: 160, Loss: 36.9162763611, Loss delta: 0.00610464108218\n",
      "Iter: 170, Loss: 36.8576226494, Loss delta: 0.00567864062369\n",
      "Iter: 180, Loss: 36.8029206681, Loss delta: 0.00530698374692\n",
      "Iter: 190, Loss: 36.7516841013, Loss delta: 0.00497968466126\n",
      "Iter: 200, Loss: 36.7035133208, Loss delta: 0.00468904407526\n",
      "Iter: 210, Loss: 36.6580760339, Loss delta: 0.00442904310368\n",
      "Iter: 220, Loss: 36.6150929463, Loss delta: 0.00419491653128\n",
      "Iter: 230, Loss: 36.5743269878, Loss delta: 0.0039828473622\n",
      "Iter: 240, Loss: 36.5355751077, Loss delta: 0.00378974488149\n",
      "Iter: 250, Loss: 36.4986619513, Loss delta: 0.00361308117251\n",
      "Iter: 260, Loss: 36.4634349319, Loss delta: 0.00345076916906\n",
      "Iter: 270, Loss: 36.4297603485, Loss delta: 0.00330107062773\n",
      "Iter: 280, Loss: 36.3975203, Loss delta: 0.00316252592764\n",
      "Iter: 290, Loss: 36.3666102073, Loss delta: 0.0030338999808\n",
      "Iter: 300, Loss: 36.3369368081, Loss delta: 0.00291414016296\n",
      "Iter: 310, Loss: 36.30841652, Loss delta: 0.00280234330344\n",
      "Iter: 320, Loss: 36.280974095, Loss delta: 0.00269772956742\n",
      "Iter: 330, Loss: 36.2545415044, Loss delta: 0.00259962162806\n",
      "Iter: 340, Loss: 36.2290570085, Loss delta: 0.00250742793243\n",
      "Iter: 350, Loss: 36.2044643757, Loss delta: 0.00242062916089\n",
      "Iter: 360, Loss: 36.180712223, Loss delta: 0.00233876719562\n",
      "Iter: 370, Loss: 36.1577534549, Loss delta: 0.00226143607503\n",
      "Iter: 380, Loss: 36.135544784, Loss delta: 0.00218827453023\n",
      "Iter: 390, Loss: 36.1140463193, Loss delta: 0.00211895978998\n",
      "Iter: 400, Loss: 36.0932212103, Loss delta: 0.00205320240936\n",
      "Iter: 410, Loss: 36.0730353382, Loss delta: 0.00199074192886\n",
      "Iter: 420, Loss: 36.0534570468, Loss delta: 0.00193134321158\n",
      "Iter: 430, Loss: 36.0344569068, Loss delta: 0.00187479333683\n",
      "Iter: 440, Loss: 36.0160075082, Loss delta: 0.0018208989528\n",
      "Iter: 450, Loss: 35.9980832779, Loss delta: 0.00176948401004\n",
      "Iter: 460, Loss: 35.9806603173, Loss delta: 0.00172038781218\n",
      "Iter: 470, Loss: 35.9637162581, Loss delta: 0.00167346333225\n",
      "Iter: 480, Loss: 35.9472301342, Loss delta: 0.00162857575271\n",
      "Iter: 490, Loss: 35.9311822666, Loss delta: 0.0015856011943\n",
      "Iter: 500, Loss: 35.9155541598, Loss delta: 0.00154442560518\n",
      "Iter: 510, Loss: 35.9003284099, Loss delta: 0.00150494378678\n",
      "Iter: 520, Loss: 35.8854886199, Loss delta: 0.00146705853638\n",
      "Iter: 530, Loss: 35.8710193247, Loss delta: 0.00143067989045\n",
      "Iter: 540, Loss: 35.8569059221, Loss delta: 0.00139572445426\n",
      "Iter: 550, Loss: 35.8431346104, Loss delta: 0.00136211480669\n",
      "Iter: 560, Loss: 35.829692332, Loss delta: 0.00132977896994\n",
      "Iter: 570, Loss: 35.8165667211, Loss delta: 0.00129864993605\n",
      "Iter: 580, Loss: 35.803746057, Loss delta: 0.00126866524299\n",
      "Iter: 590, Loss: 35.7912192201, Loss delta: 0.00123976659411\n",
      "Iter: 600, Loss: 35.7789756526, Loss delta: 0.00121189951601\n",
      "Iter: 610, Loss: 35.7670053219, Loss delta: 0.00118501304988\n",
      "Iter: 620, Loss: 35.7552986868, Loss delta: 0.0011590594728\n",
      "Iter: 630, Loss: 35.7438466669, Loss delta: 0.00113399404549\n",
      "Iter: 640, Loss: 35.7326406139, Loss delta: 0.00110977478337\n",
      "Iter: 650, Loss: 35.7216722849, Loss delta: 0.00108636224874\n",
      "Iter: 660, Loss: 35.7109338185, Loss delta: 0.00106371936158\n",
      "Iter: 670, Loss: 35.700417712, Loss delta: 0.001041811227\n",
      "Iter: 680, Loss: 35.6901168001, Loss delta: 0.00102060497785\n",
      "Iter: 690, Loss: 35.6800242359, Loss delta: 0.00100006963059\n"
     ]
    },
    {
     "data": {
      "text/plain": [
       "array([ 0.66063851,  0.71995081, -3.00165447,  0.67810883, -1.31600051,\n",
       "       -1.94005433, -0.02105116, -2.35434853, -3.39993397,  0.75961562])"
      ]
     },
     "execution_count": 33,
     "metadata": {},
     "output_type": "execute_result"
    }
   ],
   "source": [
    "from scipy import special\n",
    "\n",
    "def lossf(w, X, y):\n",
    "    return np.sum(np.log(1 + np.exp(-y * np.dot(X, w))))\n",
    "\n",
    "def gradf(w, X, y):\n",
    "    return -np.dot(X.T, y * (1.0 - special.expit(y * np.dot(X, w))))\n",
    "\n",
    "def fit(X, y, lr, eps=10e-4):\n",
    "    n, d = X.shape\n",
    "    w = np.zeros(shape=d)\n",
    "    \n",
    "    i, loss_delta = 0, np.inf\n",
    "    while loss_delta >= eps:\n",
    "        loss_before = lossf(w, X, y)\n",
    "        w = w - lr * gradf(w, X, y)    \n",
    "        loss_after = lossf(w, X, y)\n",
    "        \n",
    "        loss_delta = np.abs(loss_before - loss_after)\n",
    "        \n",
    "        if i % 10 == 0:\n",
    "            print ('Iter: %s, Loss: %s, Loss delta: %s' % (i, loss_after, loss_delta))\n",
    "        \n",
    "        i += 1\n",
    "\n",
    "    return w\n",
    "\n",
    "X, Y = make_classification(n_samples=100, n_classes=2, n_features=10, n_informative=5)\n",
    "\n",
    "fit(X, Y, lr=0.01)"
   ]
  },
  {
   "cell_type": "markdown",
   "metadata": {
    "nbpresent": {
     "id": "9a913881-85d2-40af-9b16-e673aeccffb3"
    },
    "slideshow": {
     "slide_type": "slide"
    }
   },
   "source": [
    "# Going deeper: fully connected layers\n",
    "\n",
    "$$a_0 = x$$\n",
    "$$a_i = f_{i}(W_{i}a_{i-1}+b_i)$$\n",
    "$$i=0,1,...,K$$\n",
    "\n",
    "1. $a_i \\in R^{M_i}$ - activations of $i-1$ layer\n",
    "2. $W_i \\in R^{M_{i}*M_{i-1}}$ - weights matrix\n",
    "3. $b_i \\in R^{M_i}$ - vector of biases\n",
    "4. $f_{i}(z)$ - any activation function (apply elementwise)\n",
    "\n",
    "Also known as Multilayer Perceptron. And it is <b>just a composite function</b> with bunch of unknown parameters:  \n",
    "$$g(x)=f_3(W_3f_2(W_2f_1(W_1x+b_1)+b_2)+b_3)$$\n",
    "\n",
    "Parameters could be estimated from dataset using the same approach - Gradient Descent."
   ]
  },
  {
   "cell_type": "markdown",
   "metadata": {
    "nbpresent": {
     "id": "02be2735-26e1-4444-a392-0c404dacbca3"
    },
    "slideshow": {
     "slide_type": "slide"
    }
   },
   "source": [
    "# Activation functions\n",
    "\n",
    "### Sigmoid\n",
    "$$f(z)=\\frac{1}{1+exp(-z)}$$\n",
    "Looks like:\n",
    "<img src=\"http://cs231n.github.io/assets/nn1/sigmoid.jpeg\">\n",
    "\n",
    "<b>Do not use this for hidden units!</b>\n",
    "\n",
    "Use it for output unit if you are solving binary classification (independent multiclass classification) task and you need probabilities.\n",
    "\n",
    "It will bring you a lot of troubles: \n",
    "1. Activations are non centered around zero\n",
    "2. Neurons saturation (you event cannot learn <b>anything</b> in some cases)\n",
    "3. Vanishing gradient problem for deep architectures (many multiplications on small numbers)\n",
    "4. ..."
   ]
  },
  {
   "cell_type": "markdown",
   "metadata": {
    "nbpresent": {
     "id": "fd61d21a-556a-4526-848b-3a381e0bfff8"
    },
    "slideshow": {
     "slide_type": "subslide"
    }
   },
   "source": [
    "# Activation functions\n",
    "\n",
    "### Tanh\n",
    "$$f(z)= \\tanh(z) = 2 \\sigma(2z) -1$$\n",
    "Looks like:\n",
    "<img src=\"http://cs231n.github.io/assets/nn1/tanh.jpeg\">\n",
    "\n",
    "1. Just a rescaled sigmoid\n",
    "2. Activations centered around zero\n",
    "3. <b>Neurons saturation is still a problem</b>\n",
    "4. Always prefered over sigmoid, but nowadays is rather obsolete"
   ]
  },
  {
   "cell_type": "markdown",
   "metadata": {
    "nbpresent": {
     "id": "76ad1b1c-3069-48ab-b7f1-41b923d7bde1"
    },
    "slideshow": {
     "slide_type": "subslide"
    }
   },
   "source": [
    "# Activation functions\n",
    "\n",
    "### ReLU (Rectified Linear Unit)\n",
    "$$f(z)=max(0,z)$$\n",
    "Looks like: \n",
    "<img src=\"http://cs231n.github.io/assets/nn1/relu.jpeg\">\n",
    "\n",
    "1. Very common in CNN (which are deep)\n",
    "2. Fast to compute\n",
    "3. <b>One of the reasons why deep learning works</b>\n",
    "4. But activations are not zero-centered \n",
    "5. In some situations neurons could \"die\" during training process\n",
    "6. A good starting point - <b>use ReLU for hidden activations</b>"
   ]
  },
  {
   "cell_type": "markdown",
   "metadata": {
    "nbpresent": {
     "id": "d0bd3db2-ae39-458c-95a0-b3f32311f1cf"
    },
    "slideshow": {
     "slide_type": "subslide"
    }
   },
   "source": [
    "# Activation functions\n",
    "\n",
    "### ELU (Exponential Linear Unit)\n",
    "\n",
    "$$f(z) =\n",
    "    \\begin{array}{lr}\n",
    "        z, & \\text{for } z > 0\\\\\n",
    "        \\alpha (exp(z)-1), & \\text{for } z \\leq 0\n",
    "    \\end{array}\n",
    "$$\n",
    "\n",
    "Family of \"xxxLU\" looks like:\n",
    "<img src=\"https://ai2-s2-public.s3.amazonaws.com/figures/2016-11-08/0b8759d61e93b809df16d9fe9010d2a2d7241c74/4-Figure1-1.png\">\n",
    "\n",
    "Looks like better then ReLU for SGD convergence:\n",
    "\n",
    "<img src=\"https://media.licdn.com/mpr/mpr/AAEAAQAAAAAAAAZwAAAAJDI2ZWNmM2UwLWNlOTItNDAxNC1iYjlmLWVlYzFlOGI2MjRiMw.png\">\n",
    "\n",
    "1. $\\alpha$ is hyperparameter ($\\alpha = 1$ as default)\n",
    "2. More zero-centered that ReLU\n",
    "3. No dead neurons (I suppose)\n",
    "4. In many benchmarks provides faster convergence than ReLU\n",
    "5. Seems like the following standard instead of ReLU\n",
    "6. Quite new (publication in 2016)"
   ]
  },
  {
   "cell_type": "markdown",
   "metadata": {
    "nbpresent": {
     "id": "80116657-2f61-435b-ac34-682ab802cc69"
    },
    "slideshow": {
     "slide_type": "subslide"
    }
   },
   "source": [
    "# Activation functions\n",
    "\n",
    "### MaxOut\n",
    "For $k=2$:\n",
    "$$f(x)=max(Wx+a,Ux+b)$$\n",
    "Looks like (depends on $k$): \n",
    "<img src=\"https://www.researchgate.net/profile/Zhibin_Liao/publication/280695837/figure/fig1/AS:284565710098447@1444857160419/Figure-1-Piecewise-linear-activation-functions-ReLU-2-LReLU-3-PReLU-4-and.png\">\n",
    "\n",
    "1. Doesn't have functional form like $f(Wx+b)$\n",
    "2. Can approximate many others function forms (quadratic and etc.)\n",
    "3. <b>Brings even more parameters in your network (k times more)</b>"
   ]
  },
  {
   "cell_type": "markdown",
   "metadata": {
    "nbpresent": {
     "id": "f23e6567-4b95-416a-acc6-221c820ea21a"
    },
    "slideshow": {
     "slide_type": "subslide"
    }
   },
   "source": [
    "# Activation functions\n",
    "\n",
    "### Softmax\n",
    "$$\\sigma_j(z)=\\frac{exp(z_j)}{\\sum_{l=1}^{K}{exp(z_l)}}$$\n",
    "$$j=1,...,K$$\n",
    "$$z \\in R^K$$\n",
    "\n",
    "1. Forms <b>categorical distribution of K classes</b>\n",
    "2. Often used as output layer for multiclass classification problems \n",
    "3. Categorical cross-entropy is a standard for loss function\n",
    "4. You can trap into computation trouble if you have 1000000 classes (like in Word2Vec)"
   ]
  },
  {
   "cell_type": "markdown",
   "metadata": {
    "nbpresent": {
     "id": "2211bfc7-b350-4869-8280-be77c94ae0d2"
    },
    "slideshow": {
     "slide_type": "slide"
    }
   },
   "source": [
    "# Gradient descent for MLP\n",
    "\n",
    "1. Suppose we are solving regression problem with multilayer perceptron (so, $x_j \\in R^n$, $y_j \\in R$)\n",
    "2. We want $g(x) \\in R$, so we use <b>linear activation</b> on the last layer:\n",
    "$$y=g(x)=W_3 f_2(W_2 f_1(W_1x+b_1)+b_2)+b_3$$\n",
    "$$a_1(x)=f_1(W_1x+b_1)$$\n",
    "$$a_2(x)=f_2(W_2a_1+b_2)$$\n",
    "$$y=a_3(x)=W_3a_2+b_3$$\n",
    "3. Loss function is MSE: $$L(W_1,W_2,W_3,b_1,b_2,b_3\\|X,Y) = \\frac{1}{2N}\\sum_{(x_j, y_j)}{(g(x_j\\|W_1, W_2, W_3, b_1, b_2, b_3)-y_j)^2} = \\frac{1}{2N}\\sum_{(x_j, y_j)}{(a_3(x_j)-y_j)^2}$$\n",
    "\n",
    "### Gradient calculation:\n",
    "1. For $W_3$ (note, that only $a_3$ depends on $W_3$):\n",
    "$$\\frac{\\partial{L}}{\\partial{W_3}} = \\frac{1}{N}\\sum_{(x_j, y_j)}{\\frac{\\partial{l(x_j,y_j)}}{\\partial{W_3}}} = \\frac{1}{N}\\sum_{(x_j, y_j)}{\\frac{\\partial{l(a_3(x_j), y_j)}}{\\partial{a_3}}*\\frac{\\partial{a_3(x_j\\|a_2,W_3,b_3)}}{\\partial{W_3}}}= \\\\ \\frac{1}{N}\\sum_{(x_j, y_j)}{(a_3(x_j)-y_j)*a_2(x_j)}$$\n",
    "2. For $W_2$ (only $a_2$ depends on $W_2$:\n",
    "$$\\frac{\\partial{L}}{\\partial{W_2}} = \\frac{1}{N}\\sum_{(x_j, y_j)}{\\frac{\\partial{l(x_j,y_j)}}{\\partial{W_2}}} = \\frac{1}{N}\\sum_{(x_j, y_j)}{\\frac{\\partial{l(a_3(x_j), y_j)}}{\\partial{a_3}}*\\frac{\\partial{a_3(x_j\\|a_2,W_3,b_3)}}{\\partial{a_2}}*\\frac{\\partial{a_2(x_j\\|a_1,W_2,b_2)}}{\\partial{W_2}}}= \\\\ \\frac{1}{N}\\sum_{(x_j, y_j)}{(a_3(x_j)-y_j)*W_3*f'_2(z_2)*a_1(x_j)}$$\n",
    "3. For $W_1$ (only $a_1$ depends on $W_1$:\n",
    "$$\\frac{\\partial{L}}{\\partial{W_1}} = \\frac{1}{N}\\sum_{(x_j, y_j)}{\\frac{\\partial{l(x_j,y_j)}}{\\partial{W_1}}}= \n",
    "\\frac{1}{N}\\sum_{(x_j, y_j)}{\\frac{\\partial{l(a_3(x_j), y_j)}}{\\partial{a_3}}*\\frac{\\partial{a_3(x_j\\|a_2,W_3,b_3)}}{\\partial{a_2}}*\\frac{\\partial{a_2(x_j\\|a_1,W_2,b_2)}}{\\partial{a_1}}*\\frac{\\partial{a_1(x_j\\|W_1,b_1)}}{\\partial{W_1}}}= \\\\ \\frac{1}{N}\\sum_{(x_j, y_j)}{(a_3(x_j)-y_j)*W_3*f'_2(z_2)*W_2*f'_1(z_1)*x_j}$$\n",
    "4. The same for $b_1, b_2, b_3$"
   ]
  },
  {
   "cell_type": "markdown",
   "metadata": {
    "slideshow": {
     "slide_type": "subslide"
    }
   },
   "source": [
    "# Backpropagation algorithm\n",
    "\n",
    "1. <b>Backpropagation</b> is just an efficient way to calculate partial derivatives with respect of network parameters\n",
    "2. <b>Backpropagation</b> consists of two steps: <b>forward pass</b> and <b>backward pass</b>\n",
    "3. <b>Forward pass</b> evaluating network output value and loss value\n",
    "4. <b>Backward pass</b> calculating gradient\n",
    "5. Let's look at <b>backward pass</b>:\n",
    "$$\\frac{\\partial{L}}{\\partial{W_2}} = \\frac{1}{N}\\sum_{(x_j, y_j)}{(a_3(x_j)-y_j)*W_3*f'_2(z_2)*a_1(x_j)}$$\n",
    "$$\\frac{\\partial{L}}{\\partial{W_1}} = \\frac{1}{N}\\sum_{(x_j, y_j)}{(a_3(x_j)-y_j)*W_3*f'_2(z_2)*W_2*f'_1(z_1)*x_j}$$\n",
    "Note, that:  \n",
    "$\\frac{\\partial{L}}{\\partial{W_2}}$ and $\\frac{\\partial{L}}{\\partial{W_1}}$ has many common terms - we need cache them.  \n",
    "Also we need to cache intermediate results of forward pass ($a_1, a_2, a_3, z_1, z_2$).  \n",
    "Then we can calculate gradient very efficently.\n",
    "6. There are two main problems: <b>vanishing gradient</b> and <b>explosive gradient</b>\n",
    "7. Two main sources of them are multiplication on weights $W_l$ and multiplication on $f'_l(z_l)$\n",
    "8. We can beat <b>vanishing gradient</b> problem with good choice of <b>activation functions</b> (xxxLU family) and smart <b> weights initialization</b> (we'll see a good example later)\n",
    "9. Also more advanced techniques could be used for gradients flow boosting in the network\n",
    "10. We cat beat <b>explosive gradient</b> problem using <b>gradient rescaling</b> (gradient clipping) idea:\n",
    "$$\n",
    "\\frac{\\partial{L}}{\\partial{W_l}} = \n",
    "    \\begin{array}{lr}\n",
    "        \\frac{\\partial{L}}{\\partial{W_l}}, & \\text{if } \\|\\frac{\\partial{L}}{\\partial{W_l}}\\| \\leq \\gamma \\\\\n",
    "        \\gamma * \\frac{\\frac{\\partial{L}}{\\partial{W_l}}}{\\|\\frac{\\partial{L}}{\\partial{W_l}}\\|},& \\text{if } \\|\\frac{\\partial{L}}{\\partial{W_l}}\\| > \\gamma\n",
    "    \\end{array}\n",
    "$$\n",
    "Constant $\\gamma$ is hyperparameter (typically 5.0 or something close).\n",
    "\n",
    "Let's look at code example for earlier defined problem."
   ]
  },
  {
   "cell_type": "code",
   "execution_count": 507,
   "metadata": {
    "collapsed": false,
    "slideshow": {
     "slide_type": "subslide"
    }
   },
   "outputs": [
    {
     "name": "stdout",
     "output_type": "stream",
     "text": [
      "Iter: 0, Loss: 30441.3681137\n",
      "Iter: 100, Loss: 785.586047275\n",
      "Iter: 200, Loss: 569.7182516\n",
      "Iter: 300, Loss: 437.292317393\n",
      "Iter: 400, Loss: 218.74252515\n",
      "Iter: 500, Loss: 158.652091789\n",
      "Iter: 600, Loss: 132.99308854\n",
      "Iter: 700, Loss: 116.332266958\n",
      "Iter: 800, Loss: 108.375220493\n",
      "Iter: 900, Loss: 104.862597131\n",
      "Iter: 1000, Loss: 103.056712527\n",
      "Iter: 1100, Loss: 101.972647765\n",
      "Iter: 1200, Loss: 101.18078782\n",
      "Iter: 1300, Loss: 100.441289578\n",
      "Iter: 1400, Loss: 99.6883858494\n",
      "Iter: 1500, Loss: 98.8937027288\n",
      "Iter: 1600, Loss: 98.2164203207\n",
      "Iter: 1700, Loss: 97.6774801805\n",
      "Iter: 1800, Loss: 97.250078144\n",
      "Iter: 1900, Loss: 96.9062960202\n",
      "Iter: 2000, Loss: 96.6091768757\n",
      "Iter: 2100, Loss: 96.3500931798\n",
      "Iter: 2200, Loss: 96.1254945504\n",
      "Iter: 2300, Loss: 95.9275086661\n",
      "Iter: 2400, Loss: 95.7525758998\n",
      "Iter: 2500, Loss: 95.5949238924\n",
      "Iter: 2600, Loss: 95.4532531227\n",
      "Iter: 2700, Loss: 95.3274374613\n",
      "Iter: 2800, Loss: 95.2115732526\n",
      "Iter: 2900, Loss: 95.1054647128\n",
      "Iter: 3000, Loss: 95.008152043\n",
      "Iter: 3100, Loss: 94.917497013\n",
      "Iter: 3200, Loss: 94.8333023581\n",
      "Iter: 3300, Loss: 94.755285835\n",
      "Iter: 3400, Loss: 94.6862848487\n",
      "Iter: 3500, Loss: 94.6233782229\n",
      "Iter: 3600, Loss: 94.5672909849\n",
      "Iter: 3700, Loss: 94.5166729977\n",
      "Iter: 3800, Loss: 94.4683460458\n",
      "Iter: 3900, Loss: 94.4216444541\n",
      "Iter: 4000, Loss: 94.3777362994\n",
      "Iter: 4100, Loss: 94.337037972\n",
      "Iter: 4200, Loss: 94.2974776279\n",
      "Iter: 4300, Loss: 94.2601058024\n",
      "Iter: 4400, Loss: 94.2251710498\n",
      "Iter: 4500, Loss: 94.1923206749\n",
      "Iter: 4600, Loss: 94.1616784779\n",
      "Iter: 4700, Loss: 94.1316906644\n",
      "Iter: 4800, Loss: 94.1029294311\n",
      "Iter: 4900, Loss: 94.0752077945\n",
      "Iter: 5000, Loss: 94.0489068339\n",
      "Iter: 5100, Loss: 94.0236965532\n",
      "Iter: 5200, Loss: 93.9996087789\n",
      "Iter: 5300, Loss: 93.9754952223\n",
      "Iter: 5400, Loss: 93.9520235695\n",
      "Iter: 5500, Loss: 93.928309237\n",
      "Iter: 5600, Loss: 93.9052531853\n",
      "Iter: 5700, Loss: 93.8832670139\n",
      "Iter: 5800, Loss: 93.8616875925\n",
      "Iter: 5900, Loss: 93.8404112345\n",
      "Iter: 6000, Loss: 93.8198017039\n",
      "Iter: 6100, Loss: 93.8000490748\n",
      "Iter: 6200, Loss: 93.7806397451\n",
      "Iter: 6300, Loss: 93.7618658015\n",
      "Iter: 6400, Loss: 93.74332889\n",
      "Iter: 6500, Loss: 93.7249116081\n",
      "Iter: 6600, Loss: 93.7068342417\n",
      "Iter: 6700, Loss: 93.6889983923\n",
      "Iter: 6800, Loss: 93.6717292216\n",
      "Iter: 6900, Loss: 93.6537921794\n",
      "Iter: 7000, Loss: 93.6359804169\n",
      "Iter: 7100, Loss: 93.6183125228\n",
      "Iter: 7200, Loss: 93.6007532462\n",
      "Iter: 7300, Loss: 93.5839848472\n",
      "Iter: 7400, Loss: 93.567781121\n",
      "Iter: 7500, Loss: 93.5515205676\n",
      "Iter: 7600, Loss: 93.535515806\n",
      "Iter: 7700, Loss: 93.5199704851\n",
      "Iter: 7800, Loss: 93.5047688761\n",
      "Iter: 7900, Loss: 93.4895558251\n",
      "Iter: 8000, Loss: 93.474571126\n",
      "Iter: 8100, Loss: 93.4597636627\n",
      "Iter: 8200, Loss: 93.4455959731\n",
      "Iter: 8300, Loss: 93.4314801986\n",
      "Iter: 8400, Loss: 93.4171920992\n",
      "Iter: 8500, Loss: 93.4030192354\n",
      "Iter: 8600, Loss: 93.3884506663\n",
      "Iter: 8700, Loss: 93.3738893207\n",
      "Iter: 8800, Loss: 93.3600022005\n",
      "Iter: 8900, Loss: 93.3464391112\n",
      "Iter: 9000, Loss: 93.332993965\n",
      "Iter: 9100, Loss: 93.3197720011\n",
      "Iter: 9200, Loss: 93.3061265348\n",
      "Iter: 9300, Loss: 93.2924618764\n",
      "Iter: 9400, Loss: 93.2790656352\n",
      "Iter: 9500, Loss: 93.2656957391\n",
      "Iter: 9600, Loss: 93.2524189123\n",
      "Iter: 9700, Loss: 93.2391715005\n",
      "Iter: 9800, Loss: 93.2260823928\n",
      "Iter: 9900, Loss: 93.2128383527\n"
     ]
    }
   ],
   "source": [
    "X, Y = make_regression(n_samples=10000, n_features=50, n_informative=25)\n",
    "Y = np.expand_dims(Y, 1)\n",
    "\n",
    "N, M = X.shape\n",
    "\n",
    "def relu(z):\n",
    "    q = z.copy()\n",
    "    q[q <= 0] = 0.0\n",
    "    return q\n",
    "\n",
    "def drelu(z):\n",
    "    q = z.copy()\n",
    "    q[q > 0] = 1.0\n",
    "    q[q <= 0] = 0.0\n",
    "    return q\n",
    "    \n",
    "def init_dense_layer(fan_in, fan_out, eps=0.005):\n",
    "    W = np.random.uniform(low=-eps, high=eps, size=(fan_in, fan_out))\n",
    "    b = np.zeros(fan_out) + 0.01\n",
    "    return W, b\n",
    "\n",
    "W1, b1 = init_dense_layer(M, 10)\n",
    "W2, b2 = init_dense_layer(10, 10)\n",
    "W3, b3 = init_dense_layer(10, 1)\n",
    "\n",
    "def forward_pass():\n",
    "    z1 = np.dot(X, W1) + b1 \n",
    "    a1 = relu(z1)\n",
    "    \n",
    "    z2 = np.dot(a1, W2) + b2\n",
    "    a2 = relu(z2)\n",
    "    \n",
    "    a3 = np.dot(a2, W3) + b3\n",
    "    \n",
    "    return {'z1': z1, 'a1': a1, 'z2': z2, 'a2': a2, 'a3': a3}\n",
    "\n",
    "def compute_loss():\n",
    "    y_predicted = forward_pass()['a3']\n",
    "    return 0.5 * np.sum((y_predicted - Y)**2) / N\n",
    "    \n",
    "def backward_pass(fwd):\n",
    "    dL_da3 = (fwd['a3'] - Y) / N\n",
    "    delta_3 = dL_da3\n",
    "    \n",
    "    dL_dW3 = np.dot(fwd['a2'].T, delta_3)\n",
    "    dL_db3 = np.sum(delta_3, axis=0)\n",
    "    assert W3.shape == dL_dW3.shape\n",
    "    \n",
    "    delta_2 = np.dot(delta_3, W3.T) * drelu(fwd['z2'])\n",
    "    dL_dW2 = np.dot(fwd['a1'].T, delta_2)\n",
    "    dL_db2 = np.sum(delta_2, axis=0)\n",
    "    assert W2.shape == dL_dW2.shape\n",
    "    \n",
    "    delta_1 = np.dot(delta_2, W2.T) * drelu(fwd['z1'])\n",
    "    dL_dW1 = np.dot(X.T, delta_1)\n",
    "    dL_db1 = np.sum(delta_1, axis=0)\n",
    "    assert W1.shape == dL_dW1.shape\n",
    "    \n",
    "    derivatives = {\n",
    "        'W3': dL_dW3, 'W2': dL_dW2, 'W1': dL_dW1,\n",
    "        'b3': dL_db3, 'b2': dL_db2, 'b1': dL_db1\n",
    "    }\n",
    "    \n",
    "    return derivatives\n",
    "\n",
    "grad_iters = 10000\n",
    "grad_scaling = 5.0\n",
    "lr = 0.05\n",
    "\n",
    "for i in range(grad_iters):\n",
    "    intermediate_results = forward_pass()\n",
    "    d = backward_pass(intermediate_results)\n",
    "    \n",
    "    # \"Gradient rescaling\" looks like this\n",
    "    for name, grad_value in d.items():\n",
    "        grad_norm = np.linalg.norm(grad_value.flatten())\n",
    "            \n",
    "        scaling_den = max(grad_scaling, grad_norm)\n",
    "        grad_value *= (grad_scaling / scaling_den)\n",
    "    \n",
    "    W1 -= lr * d['W1']\n",
    "    b1 -= lr * d['b1']\n",
    "    \n",
    "    W2 -= lr * d['W2']\n",
    "    b2 -= lr * d['b2']\n",
    "    \n",
    "    W3 -= lr * d['W3']\n",
    "    b3 -= lr * d['b3']\n",
    "    \n",
    "    if i % 100 == 0:\n",
    "        current_loss = compute_loss()\n",
    "        print('Iter: %s, Loss: %s' % (i, current_loss))"
   ]
  },
  {
   "cell_type": "markdown",
   "metadata": {
    "nbpresent": {
     "id": "5eca74d1-576a-4116-a90a-241a438df27e"
    },
    "slideshow": {
     "slide_type": "slide"
    }
   },
   "source": [
    "# Scaling gradient descent\n",
    "\n",
    "1. Suppose that our dataset contains N=$10^6$ training pairs\n",
    "2. Then for <b>one update of weights</b> with gradient descent we must compute sum of $10^6$ elements:\n",
    "$$\\frac{\\partial{L}}{\\partial{W_k}} = \\sum_{j=1}^{10^6}{\\frac{\\partial{l(x_j,y_j)}}{\\partial{W_k}}}$$\n",
    "3. <b>Forward and backward pass may be computationally intensive</b> in modern networks architectures (>= 100-200ms on GTX-1080)\n",
    "4. So computing full gradient is still expensive and convergence may take years\n",
    "5. To solve this issue we must reduce the complexity $O(N) \\rightarrow O(1)$\n",
    "6. Thats where idea of <b>Stochastic Gradient Desent</b> arises"
   ]
  },
  {
   "cell_type": "markdown",
   "metadata": {
    "nbpresent": {
     "id": "6c9ae5cb-122a-440e-ac0e-ce4c09198c4e"
    },
    "slideshow": {
     "slide_type": "subslide"
    }
   },
   "source": [
    "# Stochastic Gradient Descent\n",
    "\n",
    "### Empirical loss is an expectation\n",
    "$$L(W,X,Y)=\\frac{1}{N}\\sum_{j=1}^{N}{l(x_j,y_j,W)} \\approx E_{(X,Y)}[L(W)]$$\n",
    "\n",
    "### Full gradient descent\n",
    "$$W^{(k+1)} = W^{(k)} - \\alpha_{k+1} \\nabla E_{(X,Y)}[L(W)]$$\n",
    "where \n",
    "$$\\nabla E_{(X,Y)}[L(W)] \\approx \\frac{1}{N}\\sum_{j=1}^{N}{\\nabla l(x_j,y_j,W)}$$\n",
    "\n",
    "### Stochastic gradient descent\n",
    "$$W^{(k+1)} = W^{(k)} - \\alpha_{k+1} \\nabla E_{(X,Y)}[L(W)]$$\n",
    "where \n",
    "$$\\nabla E_{(X,Y)}[L(W)] \\approx \\nabla l(x_j,y_j,W)$$\n",
    "and $(x_j, y_j)$ is <b>taken at random</b>"
   ]
  },
  {
   "cell_type": "markdown",
   "metadata": {
    "nbpresent": {
     "id": "fa9a8b33-0a9a-4545-b93f-f52f054e8471"
    },
    "slideshow": {
     "slide_type": "slide"
    }
   },
   "source": [
    "# SGD issue: Fluctuations\n",
    "\n",
    "In practice convergence may look like:\n",
    "<img src=\"https://image.slidesharecdn.com/pkfetdxyqpiy2i94fvzv-signature-25ed596523f4a669f9a710899d8eaf303c4bbdce8b8e80e99e004c3f91b28bcc-poli-151222094839/95/recommender-systems-50-638.jpg?cb=1450777740\">"
   ]
  },
  {
   "cell_type": "markdown",
   "metadata": {
    "nbpresent": {
     "id": "711557d8-12e6-4605-9186-9e661d2d022e"
    },
    "slideshow": {
     "slide_type": "subslide"
    }
   },
   "source": [
    "# SGD issue: Improvements\n",
    "1. We want more <b>stable approximation</b> of $\\nabla E_{(X,Y)}[L(W)]$\n",
    "2. But still <b>independent of sample size</b>\n",
    "\n",
    "### Mini-batch Stochastic Gradient Descent\n",
    "\n",
    "$$W^{(k+1)} = W^{(k)} - \\alpha_{k+1} \\nabla E_{(X,Y)}[L(W)]$$\n",
    "where \n",
    "$$\\nabla E_{(X,Y)}[L(W)] \\approx \\frac{1}{M}\\sum_{j=1}^{M}{\\nabla l(x_j,y_j,W)}$$\n",
    "and $(x_j, y_j)$, $j=1,...,M$ are <b>taken at random</b>.\n",
    "\n",
    "Here:\n",
    "1. Hyperparameter $M$ is called <b>batch size</b> and it is a fixed number (<b>usually a power of 2 - GPUs like this</b>)\n",
    "2. Implicitly we also have hyperparameters $EpochSize$, $EpochsNum$ - tracking <b>how many batches</b> of samples must be taken during training phase \n",
    "\n",
    "### Momentum\n",
    "1. Momentum is similar to <b>exponential moving average of mini-batch weights updates</b>\n",
    "2. Improves stability when objective has the form of a long shallow ravine leading to the optimum and steep walls on the sides\n",
    "3. It is usually the case because we have a lot of nonlinearies\n",
    "\n",
    "$$v^{(k+1)} = \\gamma v^{(k)} + \\alpha_{k+1} \\frac{1}{M}\\sum_{j=1}^{M}{\\nabla l(x_j,y_j,W)}$$\n",
    "$$W^{(k+1)} = W^{(k)} - v^{(k+1)}$$\n",
    "\n",
    "Hyperparameter $\\gamma \\in (0,1]$ determines for how many iterations the previous gradients are incorporated into the current update."
   ]
  },
  {
   "cell_type": "markdown",
   "metadata": {
    "nbpresent": {
     "id": "4a264b46-6b7b-4d20-a1bd-c0936c5da5ac"
    },
    "slideshow": {
     "slide_type": "subslide"
    }
   },
   "source": [
    "# SGD issue: Improvements\n",
    "\n",
    "1. SGD is <b>sensible to features scaling</b> (look at image)\n",
    "2. You should use <b>learning rate decay</b> technique (learning rate becomes smaller with number of updates iterations) to reduce fluctation around local optimum \n",
    "3. But if you have <b>sparse features</b> then for infrequent ones it is not a good solution (possibly some weight will have very rare and bery small updates)\n",
    "\n",
    "<img src=\"http://img.blog.csdn.net/20160215232458619\">"
   ]
  },
  {
   "cell_type": "markdown",
   "metadata": {
    "nbpresent": {
     "id": "72f012b2-55ee-4135-9b3d-bf66cb67a7ae"
    },
    "slideshow": {
     "slide_type": "subslide"
    }
   },
   "source": [
    "# SGD issue: Improvements\n",
    "\n",
    "1. The idea is too use <b>adaptive learning</b> rate for each weight\n",
    "2. You start with predefined learning rate value (0.01, for example)\n",
    "3. Decay of learning rate for each weight depends on <b>history of its derivate values</b> (not on the current iteration number)\n",
    "\n",
    "$$g=\\nabla L(W)$$\n",
    "$$E[g^2]_{k} = \\beta * E[g^2]_{k-1} + (1-\\beta) * g^{2}_{k}$$\n",
    "$$W^{(k+1)} = W^{(k)} - \\frac{\\alpha}{\\sqrt{E[g^2]_{k} + \\epsilon}} g_{k}$$\n",
    "\n",
    "Here:\n",
    "1. Scaling of $\\alpha$ depends on exponential moving average of squared gradients (with smoothing parameter $\\beta$)\n",
    "2. Scaling is applied elementwise (each operation is elementwise)\n",
    "3. Where $\\epsilon$ is a small constant in order not to devide by zero\n",
    "\n",
    "### If we'll combine all described techiques together we'll get ADAM algotithm."
   ]
  },
  {
   "cell_type": "markdown",
   "metadata": {
    "nbpresent": {
     "id": "ea0a71b9-8740-47ea-8377-ee31ea84f076"
    },
    "slideshow": {
     "slide_type": "subslide"
    }
   },
   "source": [
    "# Other variations exists\n",
    "\n",
    "But <b>Adam</b> works well in practice (in most seen cases).\n",
    "\n",
    "<img src=\"http://2.bp.blogspot.com/-q6l20Vs4P_w/VPmIC7sEhnI/AAAAAAAACC4/g3UOUX2r_yA/s1600/s25RsOr%2B-%2BImgur.gif\">"
   ]
  },
  {
   "cell_type": "markdown",
   "metadata": {
    "nbpresent": {
     "id": "1c2e1fe5-0690-4278-bb6a-a0133bb93aff"
    },
    "slideshow": {
     "slide_type": "subslide"
    }
   },
   "source": [
    "# Other gradient flow boosting techniques\n",
    "\n",
    "### Residual connections\n",
    "<img src=\"https://cdn-images-1.medium.com/max/800/1*jNyv5wv-LyXfRb3Ye1q0jA.png\">\n",
    "\n",
    "### Auxiliary losses\n",
    "<img src=\"https://image.slidesharecdn.com/bim-01googledean-160516180952/95/largescale-deep-learning-for-building-intelligent-computer-systems-a-keynote-presentation-from-google-25-638.jpg?cb=1464012999\">\n",
    "\n",
    "After decomposition into separate blocks:\n",
    "<img src=\"http://joelouismarino.github.io/images/blog_images/blog_googlenet_keras/googlenet_components.png\">\n",
    "\n",
    "1. Both of them helps to reduce vanishing gradient problem.\n",
    "2. Auxiliary losses could be used as regularizers."
   ]
  },
  {
   "cell_type": "markdown",
   "metadata": {
    "nbpresent": {
     "id": "591aeb32-33d5-4c20-a174-d931e8d5ab7c"
    },
    "slideshow": {
     "slide_type": "slide"
    }
   },
   "source": [
    "# Basic regularization techniques\n",
    "\n",
    "1. Modern network architectures contains <b>a lot of parameters</b> (138M parameters in VGG16)\n",
    "2. Even with 10M dataset it ~ 13.8 times more then data points\n",
    "3. So overfit is really an issue\n",
    "4. For big networks you must <b>always use regularization</b>\n",
    "5. It is also trendy nowadays to use more advanced architectures in order to reduce amount of params without loosing predictive power (1x1 convolutions for example)"
   ]
  },
  {
   "cell_type": "markdown",
   "metadata": {
    "nbpresent": {
     "id": "45340f65-a139-4bf2-95d2-cba2ec2b0da8"
    },
    "slideshow": {
     "slide_type": "slide"
    }
   },
   "source": [
    "## Weights decay\n",
    "1. Also known as L2 regularization\n",
    "2. Biases usulally don't have any regulzrization \n",
    "3. Solving $L^2$-regularized problem is like searching MAP (<b>Maximum a posteriori</b>) estimation of parameters\n",
    "4. Same for $L^1$ regularization\n",
    "$$L(W\\|X, Y)=\\sum_{(x_j, y_j)}{l(W\\|x_j, y_j)} + \\frac{\\lambda}{2}\\|W\\|^2$$\n",
    "\n",
    "## Dropout\n",
    "1. Is modern and powerfull regularization technique (paper of 2014)\n",
    "2. The idea is to <b>set some randomly selected portion of activations to zero</b> in forward pass and backpropagate only throught active neuros\n",
    "<img src=\"http://cs231n.github.io/assets/nn2/dropout.jpeg\">\n",
    "3. You can think about it like <b>ensembling many networks</b>, where each initialized with weights of previous and trained only on one mini-batch\n",
    "4. It is a <b>differentiable operation</b>, so we can use backprop without any troubles\n",
    "5. Some hacks appears in prediction phase (we must use all neurons activations without dropout) \n",
    "6. <b>Mostly tested on classification tasks</b> (personally I didn't recieve any boost of using it in regression tasks)\n",
    "\n",
    "## Other (less popular) methods\n",
    "1. ElasticNet - combination of $L_2$ and $L_1$\n",
    "2. Dropconnect - drops weights, not activations (unlike Dropout)\n",
    "3. MaxNorm - tracking norm of weights"
   ]
  },
  {
   "cell_type": "code",
   "execution_count": 508,
   "metadata": {
    "collapsed": true,
    "slideshow": {
     "slide_type": "subslide"
    }
   },
   "outputs": [],
   "source": [
    "# TODO: add dropout forward and backward pass implementation here"
   ]
  },
  {
   "cell_type": "markdown",
   "metadata": {
    "nbpresent": {
     "id": "ce4d5f2e-0750-4ae0-9ffe-c5083014385d"
    },
    "slideshow": {
     "slide_type": "slide"
    }
   },
   "source": [
    "# But it's not the way we want to work!\n",
    "\n",
    "Notice that:\n",
    "1. For every operation (having some learnable parameters) we must implement only gradient with respect of this parameters and inputs\n",
    "2. We can construct complex operations from bunch of simplier\n",
    "3. We have backprop, which handles everything about gradients in computational graph  \n",
    "4. We don't want to think much about computational stability ($log(x)$ when $x$ is near $0$, initial initialization and so on)\n",
    "5. Also we don't want to think much about gradient descent implementation"
   ]
  },
  {
   "cell_type": "markdown",
   "metadata": {
    "nbpresent": {
     "id": "87ac1039-0615-425d-a72c-98b359a4cda9"
    },
    "slideshow": {
     "slide_type": "subslide"
    }
   },
   "source": [
    "Thats why we like:\n",
    "1. <b>Keras</b>\n",
    "2. <b>TensorFlow</b>\n",
    "3. Theano\n",
    "4. Torch\n",
    "6. Caffe\n",
    "7. MxNet\n",
    "8. Neon\n",
    "9. ...\n",
    "\n",
    "A lot of benefits:\n",
    "1. Easier development and deployment process\n",
    "2. CPU / GPU implementations of gradients calculation\n",
    "3. Debug and visualization tools\n",
    "4. Common data preprocessing utilities\n",
    "5. Distributed computations (at least with TensorFlow)\n",
    "6. ...\n",
    "\n",
    "<b>You must concentrate on problem solving, not on the rest.</b>"
   ]
  },
  {
   "cell_type": "markdown",
   "metadata": {
    "nbpresent": {
     "id": "be49698a-1c10-4ca4-a41b-b506816ef30c"
    },
    "slideshow": {
     "slide_type": "slide"
    }
   },
   "source": [
    "# Keras framework\n",
    "\n",
    "1. Common high level operations based on simplier ones (provided by <b>backend</b>)\n",
    "2. Backend is either <b>TensorFlow</b> or Theano (TensorFlow is preferable nowadays)\n",
    "3. Opensource project, quite good tested\n",
    "3. Very Pythonic\n",
    "4. Has <b>Sequential</b> and <b>Graph</b> models API (you should use Graph API\n",
    "5. Easily extensible (you can define your own complex ops)\n",
    "6. Has very good documentation: https://keras.io/\n",
    "7. Will be merged with TensorFlow code since 1.1 (in contrib subpackage), since 1.2 will be merged with main code base\n",
    "8. You'll have most the benefits of TensorFlow 1.0 (Tensorboard, tfdebug, XLA compilation - possible, TenserFlow Serving, ...)\n",
    "\n",
    "Let's try it out:\n",
    "1. pip install tensorflow=1.0.0 (pip install tensorflow-gpu=1.0.0)\n",
    "2. pip install keras=1.2.2"
   ]
  },
  {
   "cell_type": "markdown",
   "metadata": {
    "nbpresent": {
     "id": "76708f91-d3ef-4e47-b324-6349ca285498"
    },
    "slideshow": {
     "slide_type": "slide"
    }
   },
   "source": [
    "# Example 1: Logistic Regression (Perceptron)"
   ]
  },
  {
   "cell_type": "code",
   "execution_count": 39,
   "metadata": {
    "collapsed": false,
    "nbpresent": {
     "id": "a62bdde6-882e-4130-9943-6529b81fed77"
    },
    "slideshow": {
     "slide_type": "fragment"
    }
   },
   "outputs": [
    {
     "name": "stdout",
     "output_type": "stream",
     "text": [
      "Epoch 1/10\n",
      "1000/1000 [==============================] - 0s - loss: 0.8735     \b\b\b\b\b\b\b\b\b\b\b\b\b\b\b\b\b\b\b\b\b\b\b\b\b\b\b\b\b\b\b\b\b\b\b\b\b\b\b\b\b\b\b\b\b\b\b\b\b\b\b\b\b\b\b\b\b\b\b\b\b\b\b\b\b\b\b\b\b\b\b\b\b\b\b\b\b\b\b\b\b\b\b\b\b\b\b\b\b\b\b\b\b\b\b\b\b\b\b\b\b\b\b\b\b\b\b\b\b\b\b\b\b\b\b\b\b\b\b\b\b\b\b\b\b\b\b\b\b\b\b\b\b\b\b\b\b\b\b\b\b\b\b\b\b\b\b\b\b\b\b\b\b\b\b\b\b\b\b\b\b\b\b\b\b\b\b\b\b\b\b\b\b\b\b\b\b\b\b\b\b\b\b\b\b\b\b\b\b\b\b\b\b\b\b\b\b\b\b\b\b\b\b\b\b\b\b\b\b\b\b\b\b\b\b\b\b\b\b\b\b\b\b\b\b\b\b\b\b\b\b\b\b\b\b\b\b\b\b\b\b\b\b\b\b\b\b\b\b\b\b\b\b\b\b\b\b\b\b\b\b\b\b\b\b\b\b\b\n",
      "Epoch 2/10\n",
      "1000/1000 [==============================] - 0s - loss: 0.8162     \b\b\b\b\b\b\b\b\b\b\b\b\b\b\b\b\b\b\b\b\b\b\b\b\b\b\b\b\b\b\b\b\b\b\b\b\b\b\b\b\b\b\b\b\b\b\b\b\b\b\b\b\b\b\b\b\b\b\b\b\b\b\b\b\b\b\b\b\b\b\b\b\b\b\b\b\b\b\b\b\b\b\b\b\b\b\b\b\b\b\b\b\b\b\b\b\b\b\b\b\b\b\b\b\b\b\b\b\b\b\b\b\b\b\b\b\b\b\b\b\b\b\b\b\b\b\b\b\b\b\b\b\b\b\b\b\b\b\b\b\b\b\b\b\b\b\b\b\b\b\b\b\b\b\b\b\b\b\b\b\b\b\b\b\b\b\b\b\b\b\b\b\b\b\b\b\b\b\b\b\b\b\b\b\b\b\b\b\b\b\b\b\b\b\b\b\b\b\b\b\b\b\b\b\b\b\b\b\b\b\b\b\b\b\b\b\b\b\b\b\b\b\b\b\b\b\b\b\b\b\b\b\b\b\b\b\b\b\b\b\b\b\b\b\b\b\b\b\b\b\b\b\b\b\b\b\b\b\b\b\b\b\b\b\b\b\b\b\n",
      "Epoch 3/10\n",
      "1000/1000 [==============================] - 0s - loss: 0.7652     \b\b\b\b\b\b\b\b\b\b\b\b\b\b\b\b\b\b\b\b\b\b\b\b\b\b\b\b\b\b\b\b\b\b\b\b\b\b\b\b\b\b\b\b\b\b\b\b\b\b\b\b\b\b\b\b\b\b\b\b\b\b\b\b\b\b\b\b\b\b\b\b\b\b\b\b\b\b\b\b\b\b\b\b\b\b\b\b\b\b\b\b\b\b\b\b\b\b\b\b\b\b\b\b\b\b\b\b\b\b\b\b\b\b\b\b\b\b\b\b\b\b\b\b\b\b\b\b\b\b\b\b\b\b\b\b\b\b\b\b\b\b\b\b\b\b\b\b\b\b\b\b\b\b\b\b\b\b\b\b\b\b\b\b\b\b\b\b\b\b\b\b\b\b\b\b\b\b\b\b\b\b\b\b\b\b\b\b\b\b\b\b\b\b\b\b\b\b\b\b\b\n",
      "Epoch 4/10\n",
      "1000/1000 [==============================] - 0s - loss: 0.7188     \b\b\b\b\b\b\b\b\b\b\b\b\b\b\b\b\b\b\b\b\b\b\b\b\b\b\b\b\b\b\b\b\b\b\b\b\b\b\b\b\b\b\b\b\b\b\b\b\b\b\b\b\b\b\b\b\b\b\b\b\b\b\b\b\b\b\b\b\b\b\b\b\b\b\b\b\b\b\b\b\b\b\b\b\b\b\b\b\b\b\b\b\b\b\b\b\b\b\b\b\b\b\b\b\b\b\b\b\b\b\b\b\b\b\b\b\b\b\b\b\b\b\b\b\b\b\b\b\b\b\b\b\b\b\b\b\b\b\b\b\b\b\b\b\b\b\b\b\b\b\b\b\b\b\b\b\b\b\b\b\b\b\b\b\b\b\b\b\b\b\b\b\b\b\b\b\b\b\b\b\b\b\b\b\b\b\b\b\b\b\b\b\b\b\b\b\b\b\b\b\b\n",
      "Epoch 5/10\n",
      "1000/1000 [==============================] - 0s - loss: 0.6789     \b\b\b\b\b\b\b\b\b\b\b\b\b\b\b\b\b\b\b\b\b\b\b\b\b\b\b\b\b\b\b\b\b\b\b\b\b\b\b\b\b\b\b\b\b\b\b\b\b\b\b\b\b\b\b\b\b\b\b\b\b\b\b\b\b\b\b\b\b\b\b\b\b\b\b\b\b\b\b\b\b\b\b\b\b\b\b\b\b\b\b\b\b\b\b\b\b\b\b\b\b\b\b\b\b\b\b\b\b\b\b\b\b\b\b\b\b\b\b\b\b\b\b\b\b\b\b\b\b\b\b\b\b\b\b\b\b\b\b\b\b\b\b\b\b\b\b\b\b\b\b\b\b\b\b\b\b\b\b\b\b\b\b\b\b\b\b\b\b\b\b\b\b\b\b\b\b\b\b\b\b\b\b\b\b\b\b\b\b\b\b\b\b\b\b\b\b\b\b\b\b\n",
      "Epoch 6/10\n",
      "1000/1000 [==============================] - 0s - loss: 0.6432     \b\b\b\b\b\b\b\b\b\b\b\b\b\b\b\b\b\b\b\b\b\b\b\b\b\b\b\b\b\b\b\b\b\b\b\b\b\b\b\b\b\b\b\b\b\b\b\b\b\b\b\b\b\b\b\b\b\b\b\b\b\b\b\b\b\b\b\b\b\b\b\b\b\b\b\b\b\b\b\b\b\b\b\b\b\b\b\b\b\b\b\b\b\b\b\b\b\b\b\b\b\b\b\b\b\b\b\b\b\b\b\b\b\b\b\b\b\b\b\b\b\b\b\b\b\b\b\b\b\b\b\b\b\b\b\b\b\b\b\b\b\b\b\b\b\b\b\b\b\b\b\b\b\b\b\b\b\b\b\b\b\b\b\b\b\b\b\b\b\b\b\b\b\b\b\b\b\b\b\b\b\b\b\b\b\b\b\b\b\b\b\b\b\b\b\b\b\b\b\b\b\n",
      "Epoch 7/10\n",
      "1000/1000 [==============================] - 0s - loss: 0.6127     \b\b\b\b\b\b\b\b\b\b\b\b\b\b\b\b\b\b\b\b\b\b\b\b\b\b\b\b\b\b\b\b\b\b\b\b\b\b\b\b\b\b\b\b\b\b\b\b\b\b\b\b\b\b\b\b\b\b\b\b\b\b\b\b\b\b\b\b\b\b\b\b\b\b\b\b\b\b\b\b\b\b\b\b\b\b\b\b\b\b\b\b\b\b\b\b\b\b\b\b\b\b\b\b\b\b\b\b\b\b\b\b\b\b\b\b\b\b\b\b\b\b\b\b\b\b\b\b\b\b\b\b\b\b\b\b\b\b\b\b\b\b\b\b\b\b\b\b\b\b\b\b\b\b\b\b\b\b\b\b\b\b\b\b\b\b\b\b\b\b\b\b\b\b\b\b\b\b\b\b\b\b\b\b\b\b\b\b\b\b\b\b\b\b\b\b\b\b\b\b\b\n",
      "Epoch 8/10\n",
      "1000/1000 [==============================] - 0s - loss: 0.5862     \b\b\b\b\b\b\b\b\b\b\b\b\b\b\b\b\b\b\b\b\b\b\b\b\b\b\b\b\b\b\b\b\b\b\b\b\b\b\b\b\b\b\b\b\b\b\b\b\b\b\b\b\b\b\b\b\b\b\b\b\b\b\b\b\b\b\b\b\b\b\b\b\b\b\b\b\b\b\b\b\b\b\b\b\b\b\b\b\b\b\b\b\b\b\b\b\b\b\b\b\b\b\b\b\b\b\b\b\b\b\b\b\b\b\b\b\b\b\b\b\b\b\b\b\b\b\b\b\b\b\b\b\b\b\b\b\b\b\b\b\b\b\b\b\b\b\b\b\b\b\b\b\b\b\b\b\b\b\b\b\b\b\b\b\b\b\b\b\b\b\b\b\b\b\b\b\b\b\b\b\b\b\b\b\b\b\b\b\b\b\b\b\b\b\b\b\b\b\b\b\b\n",
      "Epoch 9/10\n",
      "1000/1000 [==============================] - 0s - loss: 0.5644     \b\b\b\b\b\b\b\b\b\b\b\b\b\b\b\b\b\b\b\b\b\b\b\b\b\b\b\b\b\b\b\b\b\b\b\b\b\b\b\b\b\b\b\b\b\b\b\b\b\b\b\b\b\b\b\b\b\b\b\b\b\b\b\b\b\b\b\b\b\b\b\b\b\b\b\b\b\b\b\b\b\b\b\b\b\b\b\b\b\b\b\b\b\b\b\b\b\b\b\b\b\b\b\b\b\b\b\b\b\b\b\b\b\b\b\b\b\b\b\b\b\b\b\b\b\b\b\b\b\b\b\b\b\b\b\b\b\b\b\b\b\b\b\b\b\b\b\b\b\b\b\b\b\b\b\b\b\b\b\b\b\b\b\b\b\b\b\b\b\b\b\b\b\b\b\b\b\b\b\b\b\b\b\b\b\b\b\b\b\b\b\b\b\b\b\b\b\b\b\b\b\n",
      "Epoch 10/10\n",
      "1000/1000 [==============================] - 0s - loss: 0.5447     \b\b\b\b\b\b\b\b\b\b\b\b\b\b\b\b\b\b\b\b\b\b\b\b\b\b\b\b\b\b\b\b\b\b\b\b\b\b\b\b\b\b\b\b\b\b\b\b\b\b\b\b\b\b\b\b\b\b\b\b\b\b\b\b\b\b\b\b\b\b\b\b\b\b\b\b\b\b\b\b\b\b\b\b\b\b\b\b\b\b\b\b\b\b\b\b\b\b\b\b\b\b\b\b\b\b\b\b\b\b\b\b\b\b\b\b\b\b\b\b\b\b\b\b\b\b\b\b\b\b\b\b\b\b\b\b\b\b\b\b\b\b\b\b\b\b\b\b\b\b\b\b\b\b\b\b\b\b\b\b\b\b\b\b\b\b\b\b\b\b\b\b\b\b\b\b\b\b\b\b\b\b\b\b\b\b\b\b\b\b\b\b\b\b\b\b\b\b\b\b\b\n"
     ]
    },
    {
     "data": {
      "text/plain": [
       "array([-0.55856878, -0.08558576,  0.20855032, -0.06819488,  0.32002622,\n",
       "       -0.04486463,  0.18169469, -0.10540755,  0.20238911, -0.15486851,\n",
       "       -0.22203782,  0.32436141,  0.23049158,  0.04330679, -0.31131306,\n",
       "       -0.06767005, -0.37707305,  0.09778725, -0.27377102,  0.16192733,\n",
       "        0.1827877 ,  0.2627089 , -0.29786813, -0.0366699 ,  0.25736496], dtype=float32)"
      ]
     },
     "execution_count": 39,
     "metadata": {},
     "output_type": "execute_result"
    }
   ],
   "source": [
    "X, Y = make_classification(n_samples=1000, n_classes=2, n_features=25, n_informative=5)\n",
    "\n",
    "import keras\n",
    "\n",
    "from keras.layers import Dense, Input\n",
    "from keras.models import Model\n",
    "\n",
    "x = Input(shape=(X.shape[1], ))\n",
    "y = Dense(output_dim=1, activation='sigmoid')(x)\n",
    "\n",
    "model = Model(input=x, output=y)\n",
    "\n",
    "model.compile(optimizer='adam', loss='binary_crossentropy')\n",
    "\n",
    "model.fit(X, Y, batch_size=50, nb_epoch=10, verbose=1)\n",
    "\n",
    "model.output_layers[0].get_weights()[0].flatten()"
   ]
  },
  {
   "cell_type": "markdown",
   "metadata": {
    "nbpresent": {
     "id": "1c16170f-720d-4b37-85f3-9649846793fc"
    },
    "slideshow": {
     "slide_type": "slide"
    }
   },
   "source": [
    "# Example 2: Multilayer Perceptron for Regression"
   ]
  },
  {
   "cell_type": "code",
   "execution_count": 42,
   "metadata": {
    "collapsed": false,
    "nbpresent": {
     "id": "2ebc8175-ee7d-4acf-b8da-ebe92da0c6b2"
    },
    "slideshow": {
     "slide_type": "fragment"
    }
   },
   "outputs": [
    {
     "name": "stdout",
     "output_type": "stream",
     "text": [
      "Epoch 1/25\n",
      "1000/1000 [==============================] - 0s - loss: 30215.7583      \b\b\b\b\b\b\b\b\b\b\b\b\b\b\b\b\b\b\b\b\b\b\b\b\b\b\b\b\b\b\b\b\b\b\b\b\b\b\b\b\b\b\b\b\b\b\b\b\b\b\b\b\b\b\b\b\b\b\b\b\b\b\b\b\b\b\b\b\b\b\b\b\b\b\b\b\b\b\b\b\b\b\b\b\b\b\b\b\b\b\b\b\b\b\b\b\b\b\b\b\b\b\b\b\b\b\b\b\b\b\b\b\b\b\b\b\b\b\b\b\b\b\b\b\b\b\b\b\b\b\b\b\b\b\b\b\b\b\b\b\b\b\b\b\b\b\b\b\b\b\b\b\b\b\b\b\b\b\b\b\b\b\b\b\b\b\b\b\b\b\b\b\b\b\b\b\b\b\b\b\b\b\b\b\b\b\b\b\b\b\b\b\b\b\b\b\b\b\b\b\b\b\b\b\b\b\b\b\b\b\b\b\b\b\b\b\b\b\b\b\b\b\b\b\b\b\b\b\b\b\b\b\b\b\b\b\b\b\b\b\b\b\b\b\b\b\b\b\b\b\b\b\b\b\b\b\b\b\b\b\b\b\b\b\b\b\b\b\b\b\b\b\b\b\b\b\b\b\b\b\b\b\b\b\b\b\b\b\b\b\b\b\b\b\b\b\b\b\b\b\b\b\b\b\b\b\b\b\b\b\b\b\b\b\b\b\b\b\b\b\b\b\b\b\b\b\b\b\b\b\b\b\b\b\b\b\b\b\b\b\b\b\b\b\b\b\b\b\b\b\b\b\b\b\b\b\n",
      "Epoch 2/25\n",
      "1000/1000 [==============================] - 0s - loss: 30140.4033     \b\b\b\b\b\b\b\b\b\b\b\b\b\b\b\b\b\b\b\b\b\b\b\b\b\b\b\b\b\b\b\b\b\b\b\b\b\b\b\b\b\b\b\b\b\b\b\b\b\b\b\b\b\b\b\b\b\b\b\b\b\b\b\b\b\b\b\b\b\b\b\b\b\b\b\b\b\b\b\b\b\b\b\b\b\b\b\b\b\b\b\b\b\b\b\b\b\b\b\b\b\b\b\b\b\b\b\b\b\b\b\b\b\b\b\b\b\b\b\b\b\b\b\b\b\b\b\b\b\b\b\b\b\b\b\b\b\b\b\b\b\b\b\b\b\b\b\b\b\b\b\b\b\b\b\b\b\b\b\b\b\b\b\b\b\b\b\b\b\b\b\b\b\b\b\b\b\b\b\b\b\b\b\b\b\b\b\b\b\b\b\b\b\b\b\b\b\b\b\b\b\b\b\b\b\b\b\b\b\b\b\b\b\b\b\b\b\b\b\b\b\b\b\b\b\b\b\b\b\b\b\b\b\b\b\b\b\b\b\b\b\b\b\b\b\b\b\b\b\b\b\b\b\b\b\b\b\b\b\b\b\b\b\b\b\b\b\b\b\b\b\b\b\b\b\b\b\b\b\b\b\b\b\b\b\b\b\b\b\b\b\b\b\b\b\b\b\b\b\b\b\b\b\b\b\b\b\b\b\b\b\b\b\b\b\b\b\b\b\b\b\b\b\b\b\b\b\b\b\b\b\b\b\b\b\b\b\b\b\b\b\b\b\b\b\b\b\b\b\b\b\b\b\b\b\n",
      "Epoch 3/25\n",
      "1000/1000 [==============================] - 0s - loss: 30043.3445     \b\b\b\b\b\b\b\b\b\b\b\b\b\b\b\b\b\b\b\b\b\b\b\b\b\b\b\b\b\b\b\b\b\b\b\b\b\b\b\b\b\b\b\b\b\b\b\b\b\b\b\b\b\b\b\b\b\b\b\b\b\b\b\b\b\b\b\b\b\b\b\b\b\b\b\b\b\b\b\b\b\b\b\b\b\b\b\b\b\b\b\b\b\b\b\b\b\b\b\b\b\b\b\b\b\b\b\b\b\b\b\b\b\b\b\b\b\b\b\b\b\b\b\b\b\b\b\b\b\b\b\b\b\b\b\b\b\b\b\b\b\b\b\b\b\b\b\b\b\b\b\b\b\b\b\b\b\b\b\b\b\b\b\b\b\b\b\b\b\b\b\b\b\b\b\b\b\b\b\b\b\b\b\b\b\b\b\b\b\b\b\b\b\b\b\b\b\b\b\b\b\b\b\b\b\b\b\b\b\b\b\b\b\b\b\b\b\b\b\b\b\b\b\b\b\b\b\b\b\b\b\b\b\b\b\b\b\b\b\b\b\b\b\b\b\b\b\b\b\b\b\b\b\b\b\b\b\b\b\b\b\b\b\b\b\b\b\b\b\b\b\b\b\b\b\b\b\b\b\b\b\b\b\b\b\b\b\b\b\b\b\b\b\b\b\b\b\b\b\b\b\b\b\b\b\b\b\b\b\b\b\b\b\b\b\b\b\b\b\b\b\b\b\b\b\b\b\b\b\b\b\b\b\b\b\b\b\b\b\b\b\b\b\b\b\b\b\b\b\b\b\b\b\b\b\b\b\b\b\b\b\b\b\b\b\b\b\b\b\b\b\b\b\b\b\b\b\b\b\b\b\b\b\b\b\b\b\b\b\b\b\b\b\b\b\b\b\b\b\b\b\b\b\b\b\b\b\b\b\b\b\b\b\b\b\b\b\b\b\b\b\b\b\b\b\b\n",
      "Epoch 4/25\n",
      "1000/1000 [==============================] - 0s - loss: 29894.8701     \b\b\b\b\b\b\b\b\b\b\b\b\b\b\b\b\b\b\b\b\b\b\b\b\b\b\b\b\b\b\b\b\b\b\b\b\b\b\b\b\b\b\b\b\b\b\b\b\b\b\b\b\b\b\b\b\b\b\b\b\b\b\b\b\b\b\b\b\b\b\b\b\b\b\b\b\b\b\b\b\b\b\b\b\b\b\b\b\b\b\b\b\b\b\b\b\b\b\b\b\b\b\b\b\b\b\b\b\b\b\b\b\b\b\b\b\b\b\b\b\b\b\b\b\b\b\b\b\b\b\b\b\b\b\b\b\b\b\b\b\b\b\b\b\b\b\b\b\b\b\b\b\b\b\b\b\b\b\b\b\b\b\b\b\b\b\b\b\b\b\b\b\b\b\b\b\b\b\b\b\b\b\b\b\b\b\b\b\b\b\b\b\b\b\b\b\b\b\b\b\b\b\b\b\b\b\b\b\b\b\b\b\b\b\b\b\b\b\b\b\b\b\b\b\b\b\b\b\b\b\b\b\b\b\b\b\b\b\b\b\b\b\b\b\b\b\b\b\b\b\b\b\b\b\b\b\b\b\b\b\b\b\b\b\b\b\b\b\b\b\b\b\b\b\b\b\b\b\b\b\b\b\b\b\b\b\b\b\b\b\b\b\b\b\b\b\b\b\b\b\b\b\b\b\b\b\b\b\b\b\b\b\b\b\b\b\b\b\b\b\b\b\b\b\b\b\b\b\b\b\b\b\b\b\b\b\b\b\b\b\b\b\b\b\b\b\b\b\b\b\b\b\b\b\b\n",
      "Epoch 5/25\n",
      "1000/1000 [==============================] - 0s - loss: 29655.8463     \b\b\b\b\b\b\b\b\b\b\b\b\b\b\b\b\b\b\b\b\b\b\b\b\b\b\b\b\b\b\b\b\b\b\b\b\b\b\b\b\b\b\b\b\b\b\b\b\b\b\b\b\b\b\b\b\b\b\b\b\b\b\b\b\b\b\b\b\b\b\b\b\b\b\b\b\b\b\b\b\b\b\b\b\b\b\b\b\b\b\b\b\b\b\b\b\b\b\b\b\b\b\b\b\b\b\b\b\b\b\b\b\b\b\b\b\b\b\b\b\b\b\b\b\b\b\b\b\b\b\b\b\b\b\b\b\b\b\b\b\b\b\b\b\b\b\b\b\b\b\b\b\b\b\b\b\b\b\b\b\b\b\b\b\b\b\b\b\b\b\b\b\b\b\b\b\b\b\b\b\b\b\b\b\b\b\b\b\b\b\b\b\b\b\b\b\b\b\b\b\b\b\b\b\b\b\b\b\b\b\b\b\b\b\b\b\b\b\b\b\b\b\b\b\b\b\b\b\b\b\b\b\b\b\b\b\b\b\b\b\b\b\b\b\b\b\b\b\b\b\b\b\b\b\b\b\b\b\b\b\b\b\b\b\b\b\b\b\b\b\b\b\b\b\b\b\b\b\b\b\b\b\b\b\b\b\b\b\b\b\b\b\b\b\b\b\b\b\b\b\b\b\b\b\b\b\b\b\b\b\b\b\b\b\b\b\b\b\b\b\b\b\b\b\b\b\b\b\b\b\b\b\b\b\b\b\b\b\b\b\b\b\b\b\b\b\b\b\b\b\b\b\b\b\b\n",
      "Epoch 6/25\n",
      "1000/1000 [==============================] - 0s - loss: 29300.4925     \b\b\b\b\b\b\b\b\b\b\b\b\b\b\b\b\b\b\b\b\b\b\b\b\b\b\b\b\b\b\b\b\b\b\b\b\b\b\b\b\b\b\b\b\b\b\b\b\b\b\b\b\b\b\b\b\b\b\b\b\b\b\b\b\b\b\b\b\b\b\b\b\b\b\b\b\b\b\b\b\b\b\b\b\b\b\b\b\b\b\b\b\b\b\b\b\b\b\b\b\b\b\b\b\b\b\b\b\b\b\b\b\b\b\b\b\b\b\b\b\b\b\b\b\b\b\b\b\b\b\b\b\b\b\b\b\b\b\b\b\b\b\b\b\b\b\b\b\b\b\b\b\b\b\b\b\b\b\b\b\b\b\b\b\b\b\b\b\b\b\b\b\b\b\b\b\b\b\b\b\b\b\b\b\b\b\b\b\b\b\b\b\b\b\b\b\b\b\b\b\b\b\b\b\b\b\b\b\b\b\b\b\b\b\b\b\b\b\b\b\b\b\b\b\b\b\b\b\b\b\b\b\b\b\b\b\b\b\b\b\b\b\b\b\b\b\b\b\b\b\b\b\b\b\b\b\b\b\b\b\b\b\b\b\b\b\b\b\b\b\b\b\b\b\b\b\b\b\b\b\b\b\b\b\n",
      "Epoch 7/25\n",
      "1000/1000 [==============================] - 0s - loss: 28773.6615     \b\b\b\b\b\b\b\b\b\b\b\b\b\b\b\b\b\b\b\b\b\b\b\b\b\b\b\b\b\b\b\b\b\b\b\b\b\b\b\b\b\b\b\b\b\b\b\b\b\b\b\b\b\b\b\b\b\b\b\b\b\b\b\b\b\b\b\b\b\b\b\b\b\b\b\b\b\b\b\b\b\b\b\b\b\b\b\b\b\b\b\b\b\b\b\b\b\b\b\b\b\b\b\b\b\b\b\b\b\b\b\b\b\b\b\b\b\b\b\b\b\b\b\b\b\b\b\b\b\b\b\b\b\b\b\b\b\b\b\b\b\b\b\b\b\b\b\b\b\b\b\b\b\b\b\b\b\b\b\b\b\b\b\b\b\b\b\b\b\b\b\b\b\b\b\b\b\b\b\b\b\b\b\b\b\b\b\b\b\b\b\b\b\b\b\b\b\b\b\b\b\b\b\b\b\b\b\b\b\b\b\b\b\b\b\b\b\b\b\b\b\b\b\b\b\b\b\b\b\b\b\b\b\b\b\b\b\b\b\b\b\b\b\b\b\b\b\b\b\b\b\b\b\b\b\b\b\b\b\b\b\b\b\b\b\b\b\b\b\b\b\b\b\b\b\b\b\b\b\b\b\b\b\b\n",
      "Epoch 8/25\n",
      "1000/1000 [==============================] - 0s - loss: 28019.4849     \b\b\b\b\b\b\b\b\b\b\b\b\b\b\b\b\b\b\b\b\b\b\b\b\b\b\b\b\b\b\b\b\b\b\b\b\b\b\b\b\b\b\b\b\b\b\b\b\b\b\b\b\b\b\b\b\b\b\b\b\b\b\b\b\b\b\b\b\b\b\b\b\b\b\b\b\b\b\b\b\b\b\b\b\b\b\b\b\b\b\b\b\b\b\b\b\b\b\b\b\b\b\b\b\b\b\b\b\b\b\b\b\b\b\b\b\b\b\b\b\b\b\b\b\b\b\b\b\b\b\b\b\b\b\b\b\b\b\b\b\b\b\b\b\b\b\b\b\b\b\b\b\b\b\b\b\b\b\b\b\b\b\b\b\b\b\b\b\b\b\b\b\b\b\b\b\b\b\b\b\b\b\b\b\b\b\b\b\b\b\b\b\b\b\b\b\b\b\b\b\b\b\b\b\b\b\b\b\b\b\b\b\b\b\b\b\b\b\b\b\b\b\b\b\b\b\b\b\b\b\b\b\b\b\b\b\b\b\b\b\b\b\b\b\b\b\b\b\b\b\b\b\b\b\b\b\b\b\b\b\b\b\b\b\b\b\b\b\b\b\b\b\b\b\b\b\b\b\b\b\b\b\b\b\n",
      "Epoch 9/25\n",
      "1000/1000 [==============================] - 0s - loss: 27019.6203     \b\b\b\b\b\b\b\b\b\b\b\b\b\b\b\b\b\b\b\b\b\b\b\b\b\b\b\b\b\b\b\b\b\b\b\b\b\b\b\b\b\b\b\b\b\b\b\b\b\b\b\b\b\b\b\b\b\b\b\b\b\b\b\b\b\b\b\b\b\b\b\b\b\b\b\b\b\b\b\b\b\b\b\b\b\b\b\b\b\b\b\b\b\b\b\b\b\b\b\b\b\b\b\b\b\b\b\b\b\b\b\b\b\b\b\b\b\b\b\b\b\b\b\b\b\b\b\b\b\b\b\b\b\b\b\b\b\b\b\b\b\b\b\b\b\b\b\b\b\b\b\b\b\b\b\b\b\b\b\b\b\b\b\b\b\b\b\b\b\b\b\b\b\b\b\b\b\b\b\b\b\b\b\b\b\b\b\b\b\b\b\b\b\b\b\b\b\b\b\b\b\b\b\b\b\b\b\b\b\b\b\b\b\b\b\b\b\b\b\b\b\b\b\b\b\b\b\b\b\b\b\b\b\b\b\b\b\b\b\b\b\b\b\b\b\b\b\b\b\b\b\b\b\b\b\b\b\b\b\b\b\b\b\b\b\b\b\b\b\b\b\b\b\b\b\b\b\b\b\b\b\b\b\b\n",
      "Epoch 10/25\n",
      "1000/1000 [==============================] - 0s - loss: 25683.6883     \b\b\b\b\b\b\b\b\b\b\b\b\b\b\b\b\b\b\b\b\b\b\b\b\b\b\b\b\b\b\b\b\b\b\b\b\b\b\b\b\b\b\b\b\b\b\b\b\b\b\b\b\b\b\b\b\b\b\b\b\b\b\b\b\b\b\b\b\b\b\b\b\b\b\b\b\b\b\b\b\b\b\b\b\b\b\b\b\b\b\b\b\b\b\b\b\b\b\b\b\b\b\b\b\b\b\b\b\b\b\b\b\b\b\b\b\b\b\b\b\b\b\b\b\b\b\b\b\b\b\b\b\b\b\b\b\b\b\b\b\b\b\b\b\b\b\b\b\b\b\b\b\b\b\b\b\b\b\b\b\b\b\b\b\b\b\b\b\b\b\b\b\b\b\b\b\b\b\b\b\b\b\b\b\b\b\b\b\b\b\b\b\b\b\b\b\b\b\b\b\b\b\b\b\b\b\b\b\b\b\b\b\b\b\b\b\b\b\b\b\b\b\b\b\b\b\b\b\b\b\b\b\b\b\b\b\b\b\b\b\b\b\b\b\b\b\b\b\b\b\b\b\b\b\b\b\b\b\b\b\b\b\b\b\b\b\b\b\b\b\b\b\b\b\b\b\b\b\b\b\b\b\b\b\n",
      "Epoch 11/25\n",
      "1000/1000 [==============================] - 0s - loss: 24017.7521     \b\b\b\b\b\b\b\b\b\b\b\b\b\b\b\b\b\b\b\b\b\b\b\b\b\b\b\b\b\b\b\b\b\b\b\b\b\b\b\b\b\b\b\b\b\b\b\b\b\b\b\b\b\b\b\b\b\b\b\b\b\b\b\b\b\b\b\b\b\b\b\b\b\b\b\b\b\b\b\b\b\b\b\b\b\b\b\b\b\b\b\b\b\b\b\b\b\b\b\b\b\b\b\b\b\b\b\b\b\b\b\b\b\b\b\b\b\b\b\b\b\b\b\b\b\b\b\b\b\b\b\b\b\b\b\b\b\b\b\b\b\b\b\b\b\b\b\b\b\b\b\b\b\b\b\b\b\b\b\b\b\b\b\b\b\b\b\b\b\b\b\b\b\b\b\b\b\b\b\b\b\b\b\b\b\b\b\b\b\b\b\b\b\b\b\b\b\b\b\b\b\b\b\b\b\b\b\b\b\b\b\b\b\b\b\b\b\b\b\b\b\b\b\b\b\b\b\b\b\b\b\b\b\b\b\b\b\b\b\b\b\b\b\b\b\b\b\b\b\b\b\b\b\b\b\b\b\b\b\b\b\b\b\b\b\b\b\b\b\b\b\b\b\b\b\b\b\b\b\b\b\b\b\b\n",
      "Epoch 12/25\n",
      "1000/1000 [==============================] - 0s - loss: 22096.8075     \b\b\b\b\b\b\b\b\b\b\b\b\b\b\b\b\b\b\b\b\b\b\b\b\b\b\b\b\b\b\b\b\b\b\b\b\b\b\b\b\b\b\b\b\b\b\b\b\b\b\b\b\b\b\b\b\b\b\b\b\b\b\b\b\b\b\b\b\b\b\b\b\b\b\b\b\b\b\b\b\b\b\b\b\b\b\b\b\b\b\b\b\b\b\b\b\b\b\b\b\b\b\b\b\b\b\b\b\b\b\b\b\b\b\b\b\b\b\b\b\b\b\b\b\b\b\b\b\b\b\b\b\b\b\b\b\b\b\b\b\b\b\b\b\b\b\b\b\b\b\b\b\b\b\b\b\b\b\b\b\b\b\b\b\b\b\b\b\b\b\b\b\b\b\b\b\b\b\b\b\b\b\b\b\b\b\b\b\b\b\b\b\b\b\b\b\b\b\b\b\b\b\b\b\b\b\b\b\b\b\b\b\b\b\b\b\b\b\b\b\b\b\b\b\b\b\b\b\b\b\b\b\b\b\b\b\b\b\b\b\b\b\b\b\b\b\b\b\b\b\b\b\b\b\b\b\b\b\b\b\b\b\b\b\b\b\b\b\b\b\b\b\b\b\b\b\b\b\b\b\b\b\b\b\n",
      "Epoch 13/25\n",
      "1000/1000 [==============================] - 0s - loss: 19956.0573     \b\b\b\b\b\b\b\b\b\b\b\b\b\b\b\b\b\b\b\b\b\b\b\b\b\b\b\b\b\b\b\b\b\b\b\b\b\b\b\b\b\b\b\b\b\b\b\b\b\b\b\b\b\b\b\b\b\b\b\b\b\b\b\b\b\b\b\b\b\b\b\b\b\b\b\b\b\b\b\b\b\b\b\b\b\b\b\b\b\b\b\b\b\b\b\b\b\b\b\b\b\b\b\b\b\b\b\b\b\b\b\b\b\b\b\b\b\b\b\b\b\b\b\b\b\b\b\b\b\b\b\b\b\b\b\b\b\b\b\b\b\b\b\b\b\b\b\b\b\b\b\b\b\b\b\b\b\b\b\b\b\b\b\b\b\b\b\b\b\b\b\b\b\b\b\b\b\b\b\b\b\b\b\b\b\b\b\b\b\b\b\b\b\b\b\b\b\b\b\b\b\b\b\b\b\b\b\b\b\b\b\b\b\b\b\b\b\b\b\b\b\b\b\b\b\b\b\b\b\b\b\b\b\b\b\b\b\b\b\b\b\b\b\b\b\b\b\b\b\b\b\b\b\b\b\b\b\b\b\b\b\b\b\b\b\b\b\b\b\b\b\b\b\b\b\b\b\b\b\b\b\b\b\b\n",
      "Epoch 14/25\n",
      "1000/1000 [==============================] - 0s - loss: 17700.2479     \b\b\b\b\b\b\b\b\b\b\b\b\b\b\b\b\b\b\b\b\b\b\b\b\b\b\b\b\b\b\b\b\b\b\b\b\b\b\b\b\b\b\b\b\b\b\b\b\b\b\b\b\b\b\b\b\b\b\b\b\b\b\b\b\b\b\b\b\b\b\b\b\b\b\b\b\b\b\b\b\b\b\b\b\b\b\b\b\b\b\b\b\b\b\b\b\b\b\b\b\b\b\b\b\b\b\b\b\b\b\b\b\b\b\b\b\b\b\b\b\b\b\b\b\b\b\b\b\b\b\b\b\b\b\b\b\b\b\b\b\b\b\b\b\b\b\b\b\b\b\b\b\b\b\b\b\b\b\b\b\b\b\b\b\b\b\b\b\b\b\b\b\b\b\b\b\b\b\b\b\b\b\b\b\b\b\b\b\b\b\b\b\b\b\b\b\b\b\b\b\b\b\b\b\b\b\b\b\b\b\b\b\b\b\b\b\b\b\b\b\b\b\b\b\b\b\b\b\b\b\b\b\b\b\b\b\b\b\b\b\b\b\b\b\b\b\b\b\b\b\b\b\b\b\b\b\b\b\b\b\b\b\b\b\b\b\b\b\b\b\b\b\b\b\b\b\b\b\b\b\b\b\n",
      "Epoch 15/25\n",
      "1000/1000 [==============================] - 0s - loss: 15463.6763     \b\b\b\b\b\b\b\b\b\b\b\b\b\b\b\b\b\b\b\b\b\b\b\b\b\b\b\b\b\b\b\b\b\b\b\b\b\b\b\b\b\b\b\b\b\b\b\b\b\b\b\b\b\b\b\b\b\b\b\b\b\b\b\b\b\b\b\b\b\b\b\b\b\b\b\b\b\b\b\b\b\b\b\b\b\b\b\b\b\b\b\b\b\b\b\b\b\b\b\b\b\b\b\b\b\b\b\b\b\b\b\b\b\b\b\b\b\b\b\b\b\b\b\b\b\b\b\b\b\b\b\b\b\b\b\b\b\b\b\b\b\b\b\b\b\b\b\b\b\b\b\b\b\b\b\b\b\b\b\b\b\b\b\b\b\b\b\b\b\b\b\b\b\b\b\b\b\b\b\b\b\b\b\b\b\b\b\b\b\b\b\b\b\b\b\b\b\b\b\b\b\b\b\b\b\b\b\b\b\b\b\b\b\b\b\b\b\b\b\b\b\b\b\b\b\b\b\b\b\b\b\b\b\b\b\b\b\b\b\b\b\b\b\b\b\b\b\b\b\b\b\b\b\b\b\b\b\b\b\b\b\b\b\b\b\b\b\b\b\b\b\b\b\b\b\b\b\b\b\b\b\b\b\b\n",
      "Epoch 16/25\n",
      "1000/1000 [==============================] - 0s - loss: 13280.5866     \b\b\b\b\b\b\b\b\b\b\b\b\b\b\b\b\b\b\b\b\b\b\b\b\b\b\b\b\b\b\b\b\b\b\b\b\b\b\b\b\b\b\b\b\b\b\b\b\b\b\b\b\b\b\b\b\b\b\b\b\b\b\b\b\b\b\b\b\b\b\b\b\b\b\b\b\b\b\b\b\b\b\b\b\b\b\b\b\b\b\b\b\b\b\b\b\b\b\b\b\b\b\b\b\b\b\b\b\b\b\b\b\b\b\b\b\b\b\b\b\b\b\b\b\b\b\b\b\b\b\b\b\b\b\b\b\b\b\b\b\b\b\b\b\b\b\b\b\b\b\b\b\b\b\b\b\b\b\b\b\b\b\b\b\b\b\b\b\b\b\b\b\b\b\b\b\b\b\b\b\b\b\b\b\b\b\b\b\b\b\b\b\b\b\b\b\b\b\b\b\b\b\b\b\b\b\b\b\b\b\b\b\b\b\b\b\b\b\b\b\b\b\b\b\b\b\b\b\b\b\b\b\b\b\b\b\b\b\b\b\b\b\b\b\b\b\b\b\b\b\b\b\b\b\b\b\b\b\b\b\b\b\b\b\b\b\b\b\b\b\b\b\b\b\b\b\b\b\b\b\b\b\b\b\b\b\b\b\b\b\b\b\b\b\b\b\b\b\b\b\b\b\b\b\b\b\b\b\b\b\b\b\b\b\b\b\b\b\b\b\b\b\b\b\b\b\b\b\b\b\b\b\b\b\b\b\b\b\b\b\b\b\b\b\b\b\b\b\b\b\b\b\b\b\b\n",
      "Epoch 17/25\n",
      "1000/1000 [==============================] - 0s - loss: 11269.0869     \b\b\b\b\b\b\b\b\b\b\b\b\b\b\b\b\b\b\b\b\b\b\b\b\b\b\b\b\b\b\b\b\b\b\b\b\b\b\b\b\b\b\b\b\b\b\b\b\b\b\b\b\b\b\b\b\b\b\b\b\b\b\b\b\b\b\b\b\b\b\b\b\b\b\b\b\b\b\b\b\b\b\b\b\b\b\b\b\b\b\b\b\b\b\b\b\b\b\b\b\b\b\b\b\b\b\b\b\b\b\b\b\b\b\b\b\b\b\b\b\b\b\b\b\b\b\b\b\b\b\b\b\b\b\b\b\b\b\b\b\b\b\b\b\b\b\b\b\b\b\b\b\b\b\b\b\b\b\b\b\b\b\b\b\b\b\b\b\b\b\b\b\b\b\b\b\b\b\b\b\b\b\b\b\b\b\b\b\b\b\b\b\b\b\b\b\b\b\b\b\b\b\b\b\b\b\b\b\b\b\b\b\b\b\b\b\b\b\b\b\b\b\b\b\b\b\b\b\b\b\b\b\b\b\b\b\b\b\b\b\b\b\b\b\b\b\b\b\b\b\b\b\b\b\b\b\b\b\b\b\b\b\b\b\b\b\b\b\b\b\b\b\b\b\b\b\b\b\b\b\b\b\b\b\b\b\b\b\b\b\b\b\b\b\b\b\b\b\b\b\b\b\b\b\b\b\b\b\b\b\b\b\b\b\b\b\b\b\b\b\b\b\b\b\b\b\b\b\b\b\b\b\b\b\b\b\b\b\b\b\b\b\b\b\b\b\b\b\b\b\b\b\b\b\b\n",
      "Epoch 18/25\n",
      "1000/1000 [==============================] - 0s - loss: 9454.6075      \b\b\b\b\b\b\b\b\b\b\b\b\b\b\b\b\b\b\b\b\b\b\b\b\b\b\b\b\b\b\b\b\b\b\b\b\b\b\b\b\b\b\b\b\b\b\b\b\b\b\b\b\b\b\b\b\b\b\b\b\b\b\b\b\b\b\b\b\b\b\b\b\b\b\b\b\b\b\b\b\b\b\b\b\b\b\b\b\b\b\b\b\b\b\b\b\b\b\b\b\b\b\b\b\b\b\b\b\b\b\b\b\b\b\b\b\b\b\b\b\b\b\b\b\b\b\b\b\b\b\b\b\b\b\b\b\b\b\b\b\b\b\b\b\b\b\b\b\b\b\b\b\b\b\b\b\b\b\b\b\b\b\b\b\b\b\b\b\b\b\b\b\b\b\b\b\b\b\b\b\b\b\b\b\b\b\b\b\b\b\b\b\b\b\b\b\b\b\b\b\b\b\b\b\b\b\b\b\b\b\b\b\b\b\b\b\b\b\b\b\b\b\b\b\b\b\b\b\b\b\b\b\b\b\b\b\b\b\b\b\b\b\b\b\b\b\b\b\b\b\b\b\b\b\b\b\b\b\b\b\b\b\b\b\b\b\b\b\b\b\b\b\b\b\b\b\b\b\b\b\b\b\b\b\b\b\b\b\b\b\b\b\b\b\b\b\b\b\b\b\b\b\b\b\b\b\b\b\b\b\b\b\b\b\b\b\b\b\b\b\b\b\b\b\b\b\b\b\b\b\b\b\b\b\b\b\b\b\b\b\b\b\b\b\b\b\b\b\b\b\b\b\b\n",
      "Epoch 19/25\n",
      "1000/1000 [==============================] - 0s - loss: 7855.8361      \b\b\b\b\b\b\b\b\b\b\b\b\b\b\b\b\b\b\b\b\b\b\b\b\b\b\b\b\b\b\b\b\b\b\b\b\b\b\b\b\b\b\b\b\b\b\b\b\b\b\b\b\b\b\b\b\b\b\b\b\b\b\b\b\b\b\b\b\b\b\b\b\b\b\b\b\b\b\b\b\b\b\b\b\b\b\b\b\b\b\b\b\b\b\b\b\b\b\b\b\b\b\b\b\b\b\b\b\b\b\b\b\b\b\b\b\b\b\b\b\b\b\b\b\b\b\b\b\b\b\b\b\b\b\b\b\b\b\b\b\b\b\b\b\b\b\b\b\b\b\b\b\b\b\b\b\b\b\b\b\b\b\b\b\b\b\b\b\b\b\b\b\b\b\b\b\b\b\b\b\b\b\b\b\b\b\b\b\b\b\b\b\b\b\b\b\b\b\b\b\b\b\b\b\b\b\b\b\b\b\b\b\b\b\b\b\b\b\b\b\b\b\b\b\b\b\b\b\b\b\b\b\b\b\b\b\b\b\b\b\b\b\b\b\b\b\b\b\b\b\b\b\b\b\b\b\b\b\b\b\b\b\b\b\b\b\b\b\b\b\b\b\b\b\b\b\b\b\b\b\b\b\b\b\b\b\b\b\b\b\b\b\b\b\b\b\b\b\b\b\b\b\b\b\b\b\b\b\b\b\b\b\b\b\b\b\b\b\b\b\b\b\b\b\b\b\b\b\b\b\b\b\b\b\b\b\b\b\b\b\b\b\b\b\b\b\b\b\b\b\b\n",
      "Epoch 20/25\n",
      "1000/1000 [==============================] - 0s - loss: 6476.0729     \b\b\b\b\b\b\b\b\b\b\b\b\b\b\b\b\b\b\b\b\b\b\b\b\b\b\b\b\b\b\b\b\b\b\b\b\b\b\b\b\b\b\b\b\b\b\b\b\b\b\b\b\b\b\b\b\b\b\b\b\b\b\b\b\b\b\b\b\b\b\b\b\b\b\b\b\b\b\b\b\b\b\b\b\b\b\b\b\b\b\b\b\b\b\b\b\b\b\b\b\b\b\b\b\b\b\b\b\b\b\b\b\b\b\b\b\b\b\b\b\b\b\b\b\b\b\b\b\b\b\b\b\b\b\b\b\b\b\b\b\b\b\b\b\b\b\b\b\b\b\b\b\b\b\b\b\b\b\b\b\b\b\b\b\b\b\b\b\b\b\b\b\b\b\b\b\b\b\b\b\b\b\b\b\b\b\b\b\b\b\b\b\b\b\b\b\b\b\b\b\b\b\b\b\b\b\b\b\b\b\b\b\b\b\b\b\b\b\b\b\b\b\b\b\b\b\b\b\b\b\b\b\b\b\b\b\b\b\b\b\b\b\b\b\b\b\b\b\b\b\b\b\b\b\b\b\b\b\b\b\b\b\b\b\b\b\b\b\b\b\b\b\b\b\b\b\b\b\b\b\n",
      "Epoch 21/25\n",
      "1000/1000 [==============================] - 0s - loss: 5311.2537     \b\b\b\b\b\b\b\b\b\b\b\b\b\b\b\b\b\b\b\b\b\b\b\b\b\b\b\b\b\b\b\b\b\b\b\b\b\b\b\b\b\b\b\b\b\b\b\b\b\b\b\b\b\b\b\b\b\b\b\b\b\b\b\b\b\b\b\b\b\b\b\b\b\b\b\b\b\b\b\b\b\b\b\b\b\b\b\b\b\b\b\b\b\b\b\b\b\b\b\b\b\b\b\b\b\b\b\b\b\b\b\b\b\b\b\b\b\b\b\b\b\b\b\b\b\b\b\b\b\b\b\b\b\b\b\b\b\b\b\b\b\b\b\b\b\b\b\b\b\b\b\b\b\b\b\b\b\b\b\b\b\b\b\b\b\b\b\b\b\b\b\b\b\b\b\b\b\b\b\b\b\b\b\b\b\b\b\b\b\b\b\b\b\b\b\b\b\b\b\b\b\b\b\b\b\b\b\b\b\b\b\b\b\b\b\b\b\b\b\b\b\b\b\b\b\b\b\b\b\b\b\b\b\b\b\b\b\b\b\b\b\b\b\b\b\b\b\b\b\b\b\b\b\b\b\b\b\b\b\b\b\b\b\b\b\b\b\b\b\b\b\b\b\b\b\b\b\b\b\b\b\b\b\b\b\b\b\b\b\b\b\b\b\b\b\b\b\b\b\b\b\b\b\b\b\b\b\b\b\b\b\b\b\b\b\b\b\b\b\b\b\b\b\b\b\b\b\b\b\b\b\b\b\b\b\b\b\b\b\b\b\b\b\b\b\b\b\b\b\b\n",
      "Epoch 22/25\n",
      "1000/1000 [==============================] - 0s - loss: 4308.2742     \b\b\b\b\b\b\b\b\b\b\b\b\b\b\b\b\b\b\b\b\b\b\b\b\b\b\b\b\b\b\b\b\b\b\b\b\b\b\b\b\b\b\b\b\b\b\b\b\b\b\b\b\b\b\b\b\b\b\b\b\b\b\b\b\b\b\b\b\b\b\b\b\b\b\b\b\b\b\b\b\b\b\b\b\b\b\b\b\b\b\b\b\b\b\b\b\b\b\b\b\b\b\b\b\b\b\b\b\b\b\b\b\b\b\b\b\b\b\b\b\b\b\b\b\b\b\b\b\b\b\b\b\b\b\b\b\b\b\b\b\b\b\b\b\b\b\b\b\b\b\b\b\b\b\b\b\b\b\b\b\b\b\b\b\b\b\b\b\b\b\b\b\b\b\b\b\b\b\b\b\b\b\b\b\b\b\b\b\b\b\b\b\b\b\b\b\b\b\b\b\b\b\b\b\b\b\b\b\b\b\b\b\b\b\b\b\b\b\b\b\b\b\b\b\b\b\b\b\b\b\b\b\b\b\b\b\b\b\b\b\b\b\b\b\b\b\b\b\b\b\b\b\b\b\b\b\b\b\b\b\b\b\b\b\b\b\b\b\b\b\b\b\b\b\b\b\b\b\b\b\b\b\b\b\b\b\b\b\b\b\b\b\b\b\b\b\b\b\b\b\b\b\b\b\b\b\b\b\b\b\b\b\b\b\b\b\b\b\b\b\b\b\b\b\b\b\b\b\b\b\b\b\b\b\b\b\b\b\b\b\b\b\b\b\b\b\b\b\b\b\n",
      "Epoch 23/25\n",
      "1000/1000 [==============================] - 0s - loss: 3492.9617     \b\b\b\b\b\b\b\b\b\b\b\b\b\b\b\b\b\b\b\b\b\b\b\b\b\b\b\b\b\b\b\b\b\b\b\b\b\b\b\b\b\b\b\b\b\b\b\b\b\b\b\b\b\b\b\b\b\b\b\b\b\b\b\b\b\b\b\b\b\b\b\b\b\b\b\b\b\b\b\b\b\b\b\b\b\b\b\b\b\b\b\b\b\b\b\b\b\b\b\b\b\b\b\b\b\b\b\b\b\b\b\b\b\b\b\b\b\b\b\b\b\b\b\b\b\b\b\b\b\b\b\b\b\b\b\b\b\b\b\b\b\b\b\b\b\b\b\b\b\b\b\b\b\b\b\b\b\b\b\b\b\b\b\b\b\b\b\b\b\b\b\b\b\b\b\b\b\b\b\b\b\b\b\b\b\b\b\b\b\b\b\b\b\b\b\b\b\b\b\b\b\b\b\b\b\b\b\b\b\b\b\b\b\b\b\b\b\b\b\b\b\b\b\b\b\b\b\b\b\b\b\b\b\b\b\b\b\b\b\b\b\b\b\b\b\b\b\b\b\b\b\b\b\b\b\b\b\b\b\b\b\b\b\b\b\b\b\b\b\b\b\b\b\b\b\b\b\b\b\b\b\b\b\b\b\b\b\b\b\b\b\b\b\b\b\b\b\b\b\b\b\b\b\b\b\b\b\b\b\b\b\b\b\b\b\b\b\b\b\b\b\b\b\b\b\b\b\b\b\b\b\b\b\b\b\b\b\b\b\b\b\b\b\b\b\b\b\b\b\b\n",
      "Epoch 24/25\n",
      "1000/1000 [==============================] - 0s - loss: 2820.0110     \b\b\b\b\b\b\b\b\b\b\b\b\b\b\b\b\b\b\b\b\b\b\b\b\b\b\b\b\b\b\b\b\b\b\b\b\b\b\b\b\b\b\b\b\b\b\b\b\b\b\b\b\b\b\b\b\b\b\b\b\b\b\b\b\b\b\b\b\b\b\b\b\b\b\b\b\b\b\b\b\b\b\b\b\b\b\b\b\b\b\b\b\b\b\b\b\b\b\b\b\b\b\b\b\b\b\b\b\b\b\b\b\b\b\b\b\b\b\b\b\b\b\b\b\b\b\b\b\b\b\b\b\b\b\b\b\b\b\b\b\b\b\b\b\b\b\b\b\b\b\b\b\b\b\b\b\b\b\b\b\b\b\b\b\b\b\b\b\b\b\b\b\b\b\b\b\b\b\b\b\b\b\b\b\b\b\b\b\b\b\b\b\b\b\b\b\b\b\b\b\b\b\b\b\b\b\b\b\b\b\b\b\b\b\b\b\b\b\b\b\b\b\b\b\b\b\b\b\b\b\b\b\b\b\b\b\b\b\b\b\b\b\b\b\b\b\b\b\b\b\b\b\b\b\b\b\b\b\b\b\b\b\b\b\b\b\b\b\b\b\b\b\b\b\b\b\b\b\b\b\n",
      "Epoch 25/25\n",
      "1000/1000 [==============================] - 0s - loss: 2290.8116     \b\b\b\b\b\b\b\b\b\b\b\b\b\b\b\b\b\b\b\b\b\b\b\b\b\b\b\b\b\b\b\b\b\b\b\b\b\b\b\b\b\b\b\b\b\b\b\b\b\b\b\b\b\b\b\b\b\b\b\b\b\b\b\b\b\b\b\b\b\b\b\b\b\b\b\b\b\b\b\b\b\b\b\b\b\b\b\b\b\b\b\b\b\b\b\b\b\b\b\b\b\b\b\b\b\b\b\b\b\b\b\b\b\b\b\b\b\b\b\b\b\b\b\b\b\b\b\b\b\b\b\b\b\b\b\b\b\b\b\b\b\b\b\b\b\b\b\b\b\b\b\b\b\b\b\b\b\b\b\b\b\b\b\b\b\b\b\b\b\b\b\b\b\b\b\b\b\b\b\b\b\b\b\b\b\b\b\b\b\b\b\b\b\b\b\b\b\b\b\b\b\b\b\b\b\b\b\b\b\b\b\b\b\b\b\b\b\b\b\b\b\b\b\b\b\b\b\b\b\b\b\b\b\b\b\b\b\b\b\b\b\b\b\b\b\b\b\b\b\b\b\b\b\b\b\b\b\b\b\b\b\b\b\b\b\b\b\b\b\b\b\b\b\b\b\b\b\b\b\b\b\b\b\b\b\b\b\b\b\b\b\b\b\b\b\b\b\b\b\b\b\b\b\b\b\b\b\b\b\b\b\b\b\b\b\b\b\b\b\b\b\b\b\b\b\b\b\b\b\b\b\b\b\b\b\b\b\b\b\b\b\b\b\b\b\b\b\b\b\b\n"
     ]
    },
    {
     "data": {
      "text/plain": [
       "array([ 2.01301765,  2.02982259, -1.44887769,  1.25195372, -1.76276588,\n",
       "       -1.34336364, -1.31772745, -0.98509347, -1.1799866 , -1.42299533], dtype=float32)"
      ]
     },
     "execution_count": 42,
     "metadata": {},
     "output_type": "execute_result"
    }
   ],
   "source": [
    "X, Y = make_regression(n_samples=1000, n_features=25, n_informative=5)\n",
    "\n",
    "x = Input(shape=(X.shape[1], ))\n",
    "\n",
    "y = Dense(output_dim=10, activation='relu')(x)\n",
    "y = Dense(output_dim=10, activation='relu')(y)\n",
    "y = Dense(output_dim=1, activation='linear')(y)\n",
    "\n",
    "model = Model(input=x, output=y)\n",
    "\n",
    "model.compile(optimizer='adam', loss='mse')\n",
    "model.fit(X, Y, batch_size=25, nb_epoch=25, verbose=1)\n",
    "\n",
    "model.output_layers[0].get_weights()[0].flatten()"
   ]
  },
  {
   "cell_type": "markdown",
   "metadata": {
    "nbpresent": {
     "id": "09e765b8-8142-4bc2-a747-320f17c1cb12"
    },
    "slideshow": {
     "slide_type": "slide"
    }
   },
   "source": [
    "# Weights initialization\n",
    "\n",
    "Is another calculus aspect which helps training deep architectures a lot.\n",
    "\n",
    "1. The way you must initialize your weights usually depends on chosen activation function\n",
    "2. <b>All zeros doesn't work</b>\n",
    "3. In past engeniers used sampling from $U[-eps,eps]$ or $N(0, eps)$\n",
    "4. But for deep networks (>= 8 layers) it didn't work, so they used greedy layerwise pretraining\n",
    "5. Good initial weights initialization helps train deeper networks (up to 20-30 CNN layers)\n",
    "6. If you go deeper you should think about residuals connections / auxiliary losses for futher improvement of gradients flow\n",
    "\n",
    "### Why all zeros doesn't work?\n",
    "Suppose $L^2$ loss and MLP with 2 layers:\n",
    "$$l(x_j, y_j) = \\frac{1}{2}(a_2(x_j)-y_j)^2 = \\frac{1}{2}((W_2f_1(W_1x_j+b_1)+b_2)-y_j)^2$$\n",
    "\n",
    "Let's compute gradient with respect of $W_1$:\n",
    "$$\\frac{\\partial{l(x_j, y_j)}}{\\partial{W_1}} = (a_2(x_j)-y_j)*\\frac{\\partial{a_2}}{\\partial{a_1}}*\\frac{\\partial{a_1}}{\\partial{W_1}} = (a_2(x_j)-y_j)W_2\\frac{\\partial{a_1}}{\\partial{W_1}}$$\n",
    "so, <b>no learning here as $W_2$ is zero</b>.\n",
    "\n",
    "But, if $W_k$ is sampled from some distribution ($U[-eps, eps]$, $N(0, eps)$) - then it works quite good (<b>for shallow networks</b>)"
   ]
  },
  {
   "cell_type": "markdown",
   "metadata": {
    "nbpresent": {
     "id": "f3789f52-a6f0-4144-ac05-244f4e738f49"
    },
    "slideshow": {
     "slide_type": "slide"
    }
   },
   "source": [
    "# Why it doesn't work for deeper architectures?\n",
    "\n",
    "Special numerical analysis needed, there are some papers focused on such issues.\n",
    "\n",
    "Suppose that we use ReLU at every layer. And let's empirically show that:\n",
    "1. W = <b>0.05</b> * np.random.randn(fan_in, fan_out) doesn't work in practice\n",
    "2. W = <b>np.sqrt(2. / fan_in)</b> * np.random.randn(fan_in, fan_out) works quite good"
   ]
  },
  {
   "cell_type": "code",
   "execution_count": 57,
   "metadata": {
    "collapsed": false,
    "nbpresent": {
     "id": "e7338696-0a78-4405-8379-a75719e45155"
    },
    "slideshow": {
     "slide_type": "subslide"
    }
   },
   "outputs": [],
   "source": [
    "def build_mlp_network(layer_size, layers_num, activation, initialization):\n",
    "    outputs = []\n",
    "    input_layer = Input(shape=(layer_size, ), name='input')\n",
    "    \n",
    "    x = input_layer\n",
    "    for i in range(1, layers_num + 1):\n",
    "        x = Dense(output_dim=layer_size, init=initialization, activation=activation, name='dense_%s' % i)(x)\n",
    "        outputs.append(x)\n",
    "        \n",
    "    model = Model(input=input_layer, output=outputs)\n",
    "    \n",
    "    return model"
   ]
  },
  {
   "cell_type": "code",
   "execution_count": 58,
   "metadata": {
    "collapsed": true,
    "nbpresent": {
     "id": "7984c86f-6b7c-4f13-8d0d-ee2a57353aa6"
    },
    "slideshow": {
     "slide_type": "subslide"
    }
   },
   "outputs": [],
   "source": [
    "def plot_activations_histograms(model, data_size, plots_by_col=4, bins_count=50, apply_log=False):\n",
    "    input_size = int(model.input.get_shape()[1])\n",
    "    data = np.random.randn(data_size, input_size)\n",
    "    \n",
    "    result = model.predict(data)\n",
    "    activation_name = model.get_layer('dense_1').activation.__name__\n",
    "    initialization_name = model.get_layer('dense_1').init.__name__\n",
    "\n",
    "    rows_count = int(math.ceil(len(result) / plots_by_col))\n",
    "    \n",
    "    fig = plt.figure(figsize=(14, 8))\n",
    "    fig.suptitle('Activation: \"%s\", Initialization: \"%s\"' % (activation_name, initialization_name), fontsize=16)\n",
    "    \n",
    "    for layer_idx, layer_result in enumerate(result, 1):\n",
    "        ax = plt.subplot(rows_count, plots_by_col, layer_idx)\n",
    "        ax.hist(layer_result.flatten(), range=(-1, 1), bins=bins_count, log=apply_log)\n",
    "        ax.set_title('dense_%s' % layer_idx)\n",
    "    \n",
    "    plt.show()    "
   ]
  },
  {
   "cell_type": "code",
   "execution_count": 62,
   "metadata": {
    "collapsed": false,
    "nbpresent": {
     "id": "f46d8b71-db16-4ee7-814e-171ef7790aad"
    },
    "slideshow": {
     "slide_type": "subslide"
    }
   },
   "outputs": [
    {
     "data": {
      "image/png": "[encoded data removed]",
      "text/plain": [
       "<matplotlib.figure.Figure at 0x74bc8fb51b38>"
      ]
     },
     "metadata": {},
     "output_type": "display_data"
    }
   ],
   "source": [
    "model = build_mlp_network(100, 12, 'relu', 'normal')\n",
    "plot_activations_histograms(model, 100)"
   ]
  },
  {
   "cell_type": "markdown",
   "metadata": {
    "nbpresent": {
     "id": "45e2445e-5db2-4221-a6de-12e3e48d281c"
    },
    "slideshow": {
     "slide_type": "slide"
    }
   },
   "source": [
    "1. All activations are collapsing!\n",
    "2. And <b>it is the issue</b> because in the backward path we'll perform practically the same operations - multiplying by $W_l$:\n",
    "\n",
    "$$l(x_j, y_j) = \\frac{1}{2}(a_3(x_j)-y_j)^2 = \\frac{1}{2}((W_3f_2(W_2f_1(W_1x_j+b_1)+b_2)+b_3)-y_j)^2$$\n",
    "\n",
    "$$\\frac{\\partial{l(x_j, y_j)}}{\\partial{W_1}} = (a_3(x_j)-y_j)*\\frac{\\partial{a_3}}{\\partial{a_2}}*\\frac{\\partial{a_2}}{\\partial{a_1}}*\\frac{\\partial{a_1}}{\\partial{W_1}} = (a_3(x_j)-y_j)W_3f'_2(z_2)W_2f'_1(z_1)x_j$$\n",
    "\n",
    "<b>As the result, gradients on first layers will become very tiny (early layers practically learns nothing!)</b>\n",
    "\n",
    "Solution is to play with variance of initial distribution."
   ]
  },
  {
   "cell_type": "code",
   "execution_count": 67,
   "metadata": {
    "collapsed": false,
    "nbpresent": {
     "id": "4f78db08-0796-4115-9229-45913710ac4b"
    },
    "slideshow": {
     "slide_type": "subslide"
    }
   },
   "outputs": [
    {
     "data": {
      "image/png": "[encoded data removed]",
      "text/plain": [
       "<matplotlib.figure.Figure at 0x74bc8fea64a8>"
      ]
     },
     "metadata": {},
     "output_type": "display_data"
    }
   ],
   "source": [
    "model = build_mlp_network(100, 12, 'relu', 'he_normal')\n",
    "plot_activations_histograms(model, 100)"
   ]
  },
  {
   "cell_type": "markdown",
   "metadata": {
    "nbpresent": {
     "id": "e192aec3-04fd-408d-9ea3-202688c352e1"
    },
    "slideshow": {
     "slide_type": "slide"
    }
   },
   "source": [
    "# Open questions\n",
    "\n",
    "1. As you see, we have a lot of hyperparameters - usually you try only some combinations and it is ok\n",
    "2. Second order methods (L-BFGS and other quasi-Newtons) doesn't work in mini-batch mode like SGD (currently)\n",
    "3. SGD is searching local minima - recent research shows that in deep networks there is \"no bad local minima\"\n",
    "4. Global optimization methods (like differential evolution) are not widely used (maybe due too many computations)\n",
    "5. Like vanishing we also have exploading gradients (there is a lot of fun in networks)\n",
    "6. ..."
   ]
  },
  {
   "cell_type": "markdown",
   "metadata": {
    "nbpresent": {
     "id": "6eb6c1dc-31b5-49cb-9134-175a0d110e95"
    },
    "slideshow": {
     "slide_type": "slide"
    }
   },
   "source": [
    "# Futher reading section\n",
    "\n",
    "1. ELU paper https://arxiv.org/pdf/1511.07289.pdf\n",
    "2. ReLU activations analysis https://arxiv.org/pdf/1502.01852.pdf\n",
    "3. MaxOut networks https://arxiv.org/pdf/1302.4389.pdf\n",
    "4. Dropout paper http://jmlr.org/papers/volume15/srivastava14a/srivastava14a.pdf\n",
    "5. Overview of SGD family http://sebastianruder.com/optimizing-gradient-descent/\n",
    "6. Practical recomendations for Gradient-Based Training of Deep Architectures https://arxiv.org/pdf/1206.5533.pdf"
   ]
  },
  {
   "cell_type": "markdown",
   "metadata": {
    "nbpresent": {
     "id": "52921b6d-4427-4957-b7f2-f73eab9d6848"
    },
    "slideshow": {
     "slide_type": "slide"
    }
   },
   "source": [
    "# Next time\n",
    "\n",
    "1. Keras basics\n",
    "2. CNNs?\n",
    "3. Homework on autoencoders?"
   ]
  }
 ],
 "metadata": {
  "anaconda-cloud": {},
  "celltoolbar": "Slideshow",
  "kernelspec": {
   "display_name": "Python [Root]",
   "language": "python",
   "name": "Python [Root]"
  },
  "language_info": {
   "codemirror_mode": {
    "name": "ipython",
    "version": 3
   },
   "file_extension": ".py",
   "mimetype": "text/x-python",
   "name": "python",
   "nbconvert_exporter": "python",
   "pygments_lexer": "ipython3",
   "version": "3.5.2"
  },
  "nbpresent": {
   "slides": {
    "00172d5d-ac3c-42b5-8ace-ae091b914cf5": {
     "id": "00172d5d-ac3c-42b5-8ace-ae091b914cf5",
     "prev": "1142b814-2ef0-462d-a467-a27af4381f88",
     "regions": {
      "7544a1b7-9423-4241-8cd3-a3fe495aabc0": {
       "attrs": {
        "height": 0.8,
        "width": 0.8,
        "x": 0.1,
        "y": 0.1
       },
       "content": {
        "cell": "7984c86f-6b7c-4f13-8d0d-ee2a57353aa6",
        "part": "whole"
       },
       "id": "7544a1b7-9423-4241-8cd3-a3fe495aabc0"
      }
     }
    },
    "07b225df-f64f-43c0-8a93-611037c01beb": {
     "id": "07b225df-f64f-43c0-8a93-611037c01beb",
     "prev": "d2474522-2a65-4d1c-b95c-6220fa69c7a2",
     "regions": {
      "59da3a30-501c-4920-9782-1d59c32dd4f5": {
       "attrs": {
        "height": 0.8,
        "width": 0.8,
        "x": 0.1,
        "y": 0.1
       },
       "content": {
        "cell": "76ad1b1c-3069-48ab-b7f1-41b923d7bde1",
        "part": "whole"
       },
       "id": "59da3a30-501c-4920-9782-1d59c32dd4f5"
      }
     }
    },
    "0a90b2ad-b089-4abb-b6e4-3dfc257ef61c": {
     "id": "0a90b2ad-b089-4abb-b6e4-3dfc257ef61c",
     "prev": "ee132fc5-5793-4d44-b2b3-cb081ae4fc3a",
     "regions": {
      "221f6323-a007-4098-9060-6f97a702a705": {
       "attrs": {
        "height": 0.8,
        "width": 0.8,
        "x": 0.1,
        "y": 0.1
       },
       "content": {
        "cell": "76708f91-d3ef-4e47-b324-6349ca285498",
        "part": "whole"
       },
       "id": "221f6323-a007-4098-9060-6f97a702a705"
      },
      "326015ba-43c1-486d-aea1-bfc59bb15787": {
       "attrs": {
        "height": 0.4,
        "width": 0.8,
        "x": 0.1,
        "y": 0.5
       },
       "content": {
        "cell": "a62bdde6-882e-4130-9943-6529b81fed77",
        "part": "whole"
       },
       "id": "326015ba-43c1-486d-aea1-bfc59bb15787"
      }
     }
    },
    "0b906732-f207-4d74-8fc9-0eaa0b1f1a65": {
     "id": "0b906732-f207-4d74-8fc9-0eaa0b1f1a65",
     "prev": "7c0c4e56-45c2-4ed4-9c74-3c7b79b8c7c2",
     "regions": {
      "c0067454-dcd2-4fbf-a53e-4101ed59ea2b": {
       "attrs": {
        "height": 0.8,
        "width": 0.8,
        "x": 0.1,
        "y": 0.1
       },
       "content": {
        "cell": "711557d8-12e6-4605-9186-9e661d2d022e",
        "part": "whole"
       },
       "id": "c0067454-dcd2-4fbf-a53e-4101ed59ea2b"
      }
     }
    },
    "1142b814-2ef0-462d-a467-a27af4381f88": {
     "id": "1142b814-2ef0-462d-a467-a27af4381f88",
     "prev": "1e532311-5143-4a6a-a552-10802086b9d8",
     "regions": {
      "6a2e2ea5-4968-4522-b556-a085550fb58d": {
       "attrs": {
        "height": 0.8,
        "width": 0.8,
        "x": 0.1,
        "y": 0.1
       },
       "content": {
        "cell": "e7338696-0a78-4405-8379-a75719e45155",
        "part": "whole"
       },
       "id": "6a2e2ea5-4968-4522-b556-a085550fb58d"
      }
     }
    },
    "1612819c-b83a-47e2-80eb-491985d67012": {
     "id": "1612819c-b83a-47e2-80eb-491985d67012",
     "prev": "c28c5851-2b3b-4bb1-a740-0d61d51d144b",
     "regions": {
      "3551f235-a62a-4e3a-a659-f3113de0c210": {
       "attrs": {
        "height": 0.8,
        "width": 0.8,
        "x": 0.1,
        "y": 0.1
       },
       "content": {
        "cell": "d8a6a19b-8603-401a-88c9-7d2468b02fc5",
        "part": "whole"
       },
       "id": "3551f235-a62a-4e3a-a659-f3113de0c210"
      }
     }
    },
    "190b504a-efe1-432d-aac5-898f6068aab3": {
     "id": "190b504a-efe1-432d-aac5-898f6068aab3",
     "prev": "a9b23f24-a7b3-4cf7-a308-0d9de338bcc1",
     "regions": {
      "842883f6-a58f-4200-826c-242ed0226a18": {
       "attrs": {
        "height": 0.8,
        "width": 0.8,
        "x": 0.1,
        "y": 0.1
       },
       "content": {
        "cell": "45e2445e-5db2-4221-a6de-12e3e48d281c",
        "part": "whole"
       },
       "id": "842883f6-a58f-4200-826c-242ed0226a18"
      }
     }
    },
    "1e532311-5143-4a6a-a552-10802086b9d8": {
     "id": "1e532311-5143-4a6a-a552-10802086b9d8",
     "prev": "663f4cf1-19d7-4574-a9ea-5233e972721d",
     "regions": {
      "419d0272-14e3-4559-b73b-f23f7a493afb": {
       "attrs": {
        "height": 0.8,
        "width": 0.8,
        "x": 0.1,
        "y": 0.1
       },
       "content": {
        "cell": "f3789f52-a6f0-4144-ac05-244f4e738f49",
        "part": "whole"
       },
       "id": "419d0272-14e3-4559-b73b-f23f7a493afb"
      }
     }
    },
    "1ec497d6-b067-4dfa-9531-49c97ad3e569": {
     "id": "1ec497d6-b067-4dfa-9531-49c97ad3e569",
     "prev": "580c717e-5626-44a5-9494-7b954a17ca8a",
     "regions": {
      "67ebecdb-c613-40be-98a7-ed0c02937a81": {
       "attrs": {
        "height": 0.8,
        "width": 0.8,
        "x": 0.1,
        "y": 0.1
       },
       "content": {
        "cell": "69839211-e0c0-4609-aa5c-eabb500a190f",
        "part": "whole"
       },
       "id": "67ebecdb-c613-40be-98a7-ed0c02937a81"
      }
     }
    },
    "268809a4-6bbe-47e6-9281-5376792b457b": {
     "id": "268809a4-6bbe-47e6-9281-5376792b457b",
     "prev": "e5023578-dc46-4de2-9bcc-b992ec9424b8",
     "regions": {
      "ce52877c-a4f2-4b5f-be9f-c72e40899f74": {
       "attrs": {
        "height": 0.8,
        "width": 0.8,
        "x": 0.1,
        "y": 0.1
       },
       "content": {
        "cell": "c6526ce3-7069-4362-acee-981e9f34dfa3",
        "part": "whole"
       },
       "id": "ce52877c-a4f2-4b5f-be9f-c72e40899f74"
      }
     }
    },
    "2803e245-86bf-4d8c-b0f4-c7951f8d956b": {
     "id": "2803e245-86bf-4d8c-b0f4-c7951f8d956b",
     "prev": "4fd4357e-589e-4491-b51c-f10d10afc59c",
     "regions": {
      "8f75713b-0b94-4636-9526-9603167bdef9": {
       "attrs": {
        "height": 0.8,
        "width": 0.8,
        "x": 0.1,
        "y": 0.1
       },
       "content": {
        "cell": "ea0a71b9-8740-47ea-8377-ee31ea84f076",
        "part": "whole"
       },
       "id": "8f75713b-0b94-4636-9526-9603167bdef9"
      }
     }
    },
    "2a35ebee-9b7a-4ef5-81e5-a774e228eca9": {
     "id": "2a35ebee-9b7a-4ef5-81e5-a774e228eca9",
     "prev": "a47d40fc-45d4-42dd-8876-bdb53d168372",
     "regions": {
      "da95e253-f77e-435b-992f-54194a66b6bd": {
       "attrs": {
        "height": 0.8,
        "width": 0.8,
        "x": 0.1,
        "y": 0.1
       },
       "content": {
        "cell": "6c9ae5cb-122a-440e-ac0e-ce4c09198c4e",
        "part": "whole"
       },
       "id": "da95e253-f77e-435b-992f-54194a66b6bd"
      }
     }
    },
    "33b7d1fc-9887-4041-8832-98cce6f15ad2": {
     "id": "33b7d1fc-9887-4041-8832-98cce6f15ad2",
     "prev": "3c3acae7-6cd5-453b-b269-a4bd6e2b5b86",
     "regions": {
      "8b62768b-2563-4fe0-b4c2-26d9d4793d0e": {
       "attrs": {
        "height": 0.8,
        "width": 0.8,
        "x": 0.1,
        "y": 0.1
       },
       "content": {
        "cell": "80116657-2f61-435b-ac34-682ab802cc69",
        "part": "whole"
       },
       "id": "8b62768b-2563-4fe0-b4c2-26d9d4793d0e"
      }
     }
    },
    "3c3acae7-6cd5-453b-b269-a4bd6e2b5b86": {
     "id": "3c3acae7-6cd5-453b-b269-a4bd6e2b5b86",
     "prev": "07b225df-f64f-43c0-8a93-611037c01beb",
     "regions": {
      "6cf1a4c4-b05e-4706-a650-e05d68f1e685": {
       "attrs": {
        "height": 0.8,
        "width": 0.8,
        "x": 0.1,
        "y": 0.1
       },
       "content": {
        "cell": "d0bd3db2-ae39-458c-95a0-b3f32311f1cf",
        "part": "whole"
       },
       "id": "6cf1a4c4-b05e-4706-a650-e05d68f1e685"
      }
     }
    },
    "41b6e770-a648-42d4-82aa-acb420e3baf9": {
     "id": "41b6e770-a648-42d4-82aa-acb420e3baf9",
     "prev": "dccc86fb-6d62-4c5b-97d7-0748b7972743",
     "regions": {
      "e2e3171f-fb7c-4dbf-8794-46c5a7ebcc8e": {
       "attrs": {
        "height": 0.8,
        "width": 0.8,
        "x": 0.1,
        "y": 0.1
       },
       "content": {
        "cell": "6eb6c1dc-31b5-49cb-9134-175a0d110e95",
        "part": "whole"
       },
       "id": "e2e3171f-fb7c-4dbf-8794-46c5a7ebcc8e"
      }
     }
    },
    "4c48c5d7-7bf5-4410-bac6-a92dd1fd1ab6": {
     "id": "4c48c5d7-7bf5-4410-bac6-a92dd1fd1ab6",
     "prev": "a083196d-f2e6-4279-9a44-e44f18fd1f3c",
     "regions": {
      "adbc68af-dfe0-42a5-b43f-54e87fb924e9": {
       "attrs": {
        "height": 0.8,
        "width": 0.8,
        "x": 0.1,
        "y": 0.1
       },
       "content": {
        "cell": "02be2735-26e1-4444-a392-0c404dacbca3",
        "part": "whole"
       },
       "id": "adbc68af-dfe0-42a5-b43f-54e87fb924e9"
      }
     }
    },
    "4d95054b-55ab-4479-9eaa-049bd96d838a": {
     "id": "4d95054b-55ab-4479-9eaa-049bd96d838a",
     "prev": "f4305ace-780d-4084-9329-96f8ac601e9f",
     "regions": {
      "3cfb155c-2e0a-4387-97f3-3adca3d8bfa2": {
       "attrs": {
        "height": 0.8,
        "width": 0.8,
        "x": 0.1,
        "y": 0.1
       },
       "content": {
        "cell": "87ac1039-0615-425d-a72c-98b359a4cda9",
        "part": "whole"
       },
       "id": "3cfb155c-2e0a-4387-97f3-3adca3d8bfa2"
      }
     }
    },
    "4fd4357e-589e-4491-b51c-f10d10afc59c": {
     "id": "4fd4357e-589e-4491-b51c-f10d10afc59c",
     "prev": "c331b0ee-8edc-4585-a7bf-b934c0581b2e",
     "regions": {
      "33103a40-d7fb-4add-80cb-69d8f4c8027f": {
       "attrs": {
        "height": 0.8,
        "width": 0.8,
        "x": 0.1,
        "y": 0.1
       },
       "content": {
        "cell": "72f012b2-55ee-4135-9b3d-bf66cb67a7ae",
        "part": "whole"
       },
       "id": "33103a40-d7fb-4add-80cb-69d8f4c8027f"
      }
     }
    },
    "580c717e-5626-44a5-9494-7b954a17ca8a": {
     "id": "580c717e-5626-44a5-9494-7b954a17ca8a",
     "prev": "268809a4-6bbe-47e6-9281-5376792b457b",
     "regions": {
      "bbbd402c-3a59-4ba8-85b4-8995008f561d": {
       "attrs": {
        "height": 0.8,
        "width": 0.8,
        "x": 0.1,
        "y": 0.1
       },
       "content": {
        "cell": "1ad82675-3494-41fd-b560-641059678ab3",
        "part": "whole"
       },
       "id": "bbbd402c-3a59-4ba8-85b4-8995008f561d"
      }
     }
    },
    "59feb4e4-619e-4e71-88a3-02706e67e829": {
     "id": "59feb4e4-619e-4e71-88a3-02706e67e829",
     "prev": null,
     "regions": {
      "6ae8969a-4838-45b9-9535-5ed240c73e5d": {
       "attrs": {
        "height": 0.8,
        "width": 0.8,
        "x": 0.1,
        "y": 0.1
       },
       "content": {
        "cell": "61f711e6-564f-421d-8688-5e083236e920",
        "part": "whole"
       },
       "id": "6ae8969a-4838-45b9-9535-5ed240c73e5d"
      }
     }
    },
    "634f05f8-ab53-46d5-bbe4-d7767717f478": {
     "id": "634f05f8-ab53-46d5-bbe4-d7767717f478",
     "prev": "0a90b2ad-b089-4abb-b6e4-3dfc257ef61c",
     "regions": {
      "c02d7906-4f19-45ea-94b1-e316cf5c68ce": {
       "attrs": {
        "height": 0.4,
        "width": 0.8,
        "x": 0.1,
        "y": 0.5
       },
       "content": {
        "cell": "2ebc8175-ee7d-4acf-b8da-ebe92da0c6b2",
        "part": "whole"
       },
       "id": "c02d7906-4f19-45ea-94b1-e316cf5c68ce"
      },
      "dfbaeb72-2481-40fb-8435-489ae26ccd30": {
       "attrs": {
        "height": 0.8,
        "width": 0.8,
        "x": 0.1,
        "y": 0.1
       },
       "content": {
        "cell": "1c16170f-720d-4b37-85f3-9649846793fc",
        "part": "whole"
       },
       "id": "dfbaeb72-2481-40fb-8435-489ae26ccd30"
      }
     }
    },
    "663f4cf1-19d7-4574-a9ea-5233e972721d": {
     "id": "663f4cf1-19d7-4574-a9ea-5233e972721d",
     "prev": "634f05f8-ab53-46d5-bbe4-d7767717f478",
     "regions": {
      "ecdce41c-1525-404d-aae6-b2a78e637a89": {
       "attrs": {
        "height": 0.8,
        "width": 0.8,
        "x": 0.1,
        "y": 0.1
       },
       "content": {
        "cell": "09e765b8-8142-4bc2-a747-320f17c1cb12",
        "part": "whole"
       },
       "id": "ecdce41c-1525-404d-aae6-b2a78e637a89"
      }
     }
    },
    "6ad32f92-c6eb-46bf-b32d-91080a891541": {
     "id": "6ad32f92-c6eb-46bf-b32d-91080a891541",
     "prev": "59feb4e4-619e-4e71-88a3-02706e67e829",
     "regions": {
      "2e8cd585-c4a1-4bf9-adcc-50ae14f2b46d": {
       "attrs": {
        "height": 0.8,
        "width": 0.8,
        "x": 0.1,
        "y": 0.1
       },
       "content": {
        "cell": "ba86bf3b-ccff-460f-829a-13d227aa7f71",
        "part": "whole"
       },
       "id": "2e8cd585-c4a1-4bf9-adcc-50ae14f2b46d"
      }
     }
    },
    "72fa1e8a-7469-4a7d-8eeb-4d3acaf89e44": {
     "id": "72fa1e8a-7469-4a7d-8eeb-4d3acaf89e44",
     "prev": "1ec497d6-b067-4dfa-9531-49c97ad3e569",
     "regions": {
      "20c7c398-fcc9-4757-9dc6-19dd4a5252a4": {
       "attrs": {
        "height": 0.8,
        "width": 0.8,
        "x": 0.1,
        "y": 0.1
       },
       "content": {
        "cell": "ba2db324-6f99-4389-965d-730953593008",
        "part": "whole"
       },
       "id": "20c7c398-fcc9-4757-9dc6-19dd4a5252a4"
      }
     }
    },
    "7c0c4e56-45c2-4ed4-9c74-3c7b79b8c7c2": {
     "id": "7c0c4e56-45c2-4ed4-9c74-3c7b79b8c7c2",
     "prev": "2a35ebee-9b7a-4ef5-81e5-a774e228eca9",
     "regions": {
      "6966ddcd-050a-460d-b496-e1eb7df36c55": {
       "attrs": {
        "height": 0.8,
        "width": 0.8,
        "x": 0.1,
        "y": 0.1
       },
       "content": {
        "cell": "fa9a8b33-0a9a-4545-b93f-f52f054e8471",
        "part": "whole"
       },
       "id": "6966ddcd-050a-460d-b496-e1eb7df36c55"
      }
     }
    },
    "837422d0-5288-4293-8be3-63fa16fd79ac": {
     "id": "837422d0-5288-4293-8be3-63fa16fd79ac",
     "prev": "dc5bb1ed-0b5f-4255-b028-7caf120b9c60",
     "regions": {
      "87ea61ca-16db-40f9-8dcb-dc56e9b27e74": {
       "attrs": {
        "height": 0.8,
        "width": 0.8,
        "x": 0.1,
        "y": 0.1
       },
       "content": {
        "cell": "45340f65-a139-4bf2-95d2-cba2ec2b0da8",
        "part": "whole"
       },
       "id": "87ea61ca-16db-40f9-8dcb-dc56e9b27e74"
      }
     }
    },
    "9bcc01aa-9dfd-4da7-8065-aa695ed6bbcd": {
     "id": "9bcc01aa-9dfd-4da7-8065-aa695ed6bbcd",
     "prev": "33b7d1fc-9887-4041-8832-98cce6f15ad2",
     "regions": {
      "f1eb35ac-b7d3-4e2a-94eb-3180879262c4": {
       "attrs": {
        "height": 0.8,
        "width": 0.8,
        "x": 0.1,
        "y": 0.1
       },
       "content": {
        "cell": "f23e6567-4b95-416a-acc6-221c820ea21a",
        "part": "whole"
       },
       "id": "f1eb35ac-b7d3-4e2a-94eb-3180879262c4"
      }
     }
    },
    "a083196d-f2e6-4279-9a44-e44f18fd1f3c": {
     "id": "a083196d-f2e6-4279-9a44-e44f18fd1f3c",
     "prev": "e9f96398-9573-493e-91c8-373f7a52fcf4",
     "regions": {
      "984b1f63-c125-46a4-a185-1a5495b783ca": {
       "attrs": {
        "height": 0.8,
        "width": 0.8,
        "x": 0.1,
        "y": 0.1
       },
       "content": {
        "cell": "9a913881-85d2-40af-9b16-e673aeccffb3",
        "part": "whole"
       },
       "id": "984b1f63-c125-46a4-a185-1a5495b783ca"
      }
     }
    },
    "a47d40fc-45d4-42dd-8876-bdb53d168372": {
     "id": "a47d40fc-45d4-42dd-8876-bdb53d168372",
     "prev": "ddd21f57-0c17-4fb8-b348-6a565fb6511b",
     "regions": {
      "1510c482-fefe-4ac7-b1fe-8245c324c179": {
       "attrs": {
        "height": 0.8,
        "width": 0.8,
        "x": 0.1,
        "y": 0.1
       },
       "content": {
        "cell": "5eca74d1-576a-4116-a90a-241a438df27e",
        "part": "whole"
       },
       "id": "1510c482-fefe-4ac7-b1fe-8245c324c179"
      }
     }
    },
    "a9b23f24-a7b3-4cf7-a308-0d9de338bcc1": {
     "id": "a9b23f24-a7b3-4cf7-a308-0d9de338bcc1",
     "prev": "00172d5d-ac3c-42b5-8ace-ae091b914cf5",
     "regions": {
      "0dedde82-cb51-419b-9b54-4529847fca78": {
       "attrs": {
        "height": 0.8,
        "width": 0.8,
        "x": 0.1,
        "y": 0.1
       },
       "content": {
        "cell": "f46d8b71-db16-4ee7-814e-171ef7790aad",
        "part": "whole"
       },
       "id": "0dedde82-cb51-419b-9b54-4529847fca78"
      }
     }
    },
    "b44acfa3-55bf-47f0-9125-f2b65f89bff8": {
     "id": "b44acfa3-55bf-47f0-9125-f2b65f89bff8",
     "prev": "2803e245-86bf-4d8c-b0f4-c7951f8d956b",
     "regions": {
      "c1b428d2-7f97-41a0-a536-fa0fa14c206e": {
       "attrs": {
        "height": 0.8,
        "width": 0.8,
        "x": 0.1,
        "y": 0.1
       },
       "content": {
        "cell": "1c2e1fe5-0690-4278-bb6a-a0133bb93aff",
        "part": "whole"
       },
       "id": "c1b428d2-7f97-41a0-a536-fa0fa14c206e"
      }
     }
    },
    "c28c5851-2b3b-4bb1-a740-0d61d51d144b": {
     "id": "c28c5851-2b3b-4bb1-a740-0d61d51d144b",
     "prev": "6ad32f92-c6eb-46bf-b32d-91080a891541",
     "regions": {
      "f9f7f012-b49a-484c-ac47-0e5dcd943642": {
       "attrs": {
        "height": 0.8,
        "width": 0.8,
        "x": 0.1,
        "y": 0.1
       },
       "content": {
        "cell": "265edee9-a199-4837-a73f-dc2592163bd9",
        "part": "whole"
       },
       "id": "f9f7f012-b49a-484c-ac47-0e5dcd943642"
      }
     }
    },
    "c331b0ee-8edc-4585-a7bf-b934c0581b2e": {
     "id": "c331b0ee-8edc-4585-a7bf-b934c0581b2e",
     "prev": "0b906732-f207-4d74-8fc9-0eaa0b1f1a65",
     "regions": {
      "2252de44-4533-4b3c-9fe5-80078422fb2b": {
       "attrs": {
        "height": 0.8,
        "width": 0.8,
        "x": 0.1,
        "y": 0.1
       },
       "content": {
        "cell": "4a264b46-6b7b-4d20-a1bd-c0936c5da5ac",
        "part": "whole"
       },
       "id": "2252de44-4533-4b3c-9fe5-80078422fb2b"
      }
     }
    },
    "c8203279-8a88-4bf1-850e-91073572c3eb": {
     "id": "c8203279-8a88-4bf1-850e-91073572c3eb",
     "prev": "41b6e770-a648-42d4-82aa-acb420e3baf9",
     "regions": {
      "3d689c33-12bc-49b1-bd42-72e39868e41a": {
       "attrs": {
        "height": 0.8,
        "width": 0.8,
        "x": 0.1,
        "y": 0.1
       },
       "content": {
        "cell": "52921b6d-4427-4957-b7f2-f73eab9d6848",
        "part": "whole"
       },
       "id": "3d689c33-12bc-49b1-bd42-72e39868e41a"
      }
     }
    },
    "d2474522-2a65-4d1c-b95c-6220fa69c7a2": {
     "id": "d2474522-2a65-4d1c-b95c-6220fa69c7a2",
     "prev": "4c48c5d7-7bf5-4410-bac6-a92dd1fd1ab6",
     "regions": {
      "16f10e46-f5a8-4c0a-b911-1ff2c8062014": {
       "attrs": {
        "height": 0.8,
        "width": 0.8,
        "x": 0.1,
        "y": 0.1
       },
       "content": {
        "cell": "fd61d21a-556a-4526-848b-3a381e0bfff8",
        "part": "whole"
       },
       "id": "16f10e46-f5a8-4c0a-b911-1ff2c8062014"
      }
     }
    },
    "dc5bb1ed-0b5f-4255-b028-7caf120b9c60": {
     "id": "dc5bb1ed-0b5f-4255-b028-7caf120b9c60",
     "prev": "b44acfa3-55bf-47f0-9125-f2b65f89bff8",
     "regions": {
      "1a99b6fe-c788-4aa1-8d8b-82c71715a1f9": {
       "attrs": {
        "height": 0.8,
        "width": 0.8,
        "x": 0.1,
        "y": 0.1
       },
       "content": {
        "cell": "591aeb32-33d5-4c20-a174-d931e8d5ab7c",
        "part": "whole"
       },
       "id": "1a99b6fe-c788-4aa1-8d8b-82c71715a1f9"
      }
     }
    },
    "dccc86fb-6d62-4c5b-97d7-0748b7972743": {
     "id": "dccc86fb-6d62-4c5b-97d7-0748b7972743",
     "prev": "f35a1c5f-d881-4b37-89cc-f1ee81cf15a8",
     "regions": {
      "9acd7e70-9e5d-4540-854b-e252f8ec0f09": {
       "attrs": {
        "height": 0.8,
        "width": 0.8,
        "x": 0.1,
        "y": 0.1
       },
       "content": {
        "cell": "e192aec3-04fd-408d-9ea3-202688c352e1",
        "part": "whole"
       },
       "id": "9acd7e70-9e5d-4540-854b-e252f8ec0f09"
      }
     }
    },
    "ddd21f57-0c17-4fb8-b348-6a565fb6511b": {
     "id": "ddd21f57-0c17-4fb8-b348-6a565fb6511b",
     "prev": "9bcc01aa-9dfd-4da7-8065-aa695ed6bbcd",
     "regions": {
      "1d495965-9ed9-4044-aea4-87b198e0baf0": {
       "attrs": {
        "height": 0.8,
        "width": 0.8,
        "x": 0.1,
        "y": 0.1
       },
       "content": {
        "cell": "2211bfc7-b350-4869-8280-be77c94ae0d2",
        "part": "whole"
       },
       "id": "1d495965-9ed9-4044-aea4-87b198e0baf0"
      }
     }
    },
    "e5023578-dc46-4de2-9bcc-b992ec9424b8": {
     "id": "e5023578-dc46-4de2-9bcc-b992ec9424b8",
     "prev": "1612819c-b83a-47e2-80eb-491985d67012",
     "regions": {
      "54c074d5-f5ae-422c-8e9b-2081da0d051f": {
       "attrs": {
        "height": 0.8,
        "width": 0.8,
        "x": 0.1,
        "y": 0.1
       },
       "content": {
        "cell": "862f7f3d-c36e-4aab-b806-e69c0ccf4ac0",
        "part": "whole"
       },
       "id": "54c074d5-f5ae-422c-8e9b-2081da0d051f"
      }
     }
    },
    "e9f96398-9573-493e-91c8-373f7a52fcf4": {
     "id": "e9f96398-9573-493e-91c8-373f7a52fcf4",
     "prev": "72fa1e8a-7469-4a7d-8eeb-4d3acaf89e44",
     "regions": {
      "af5053cb-bdb3-477a-8bd4-015b3f1a3f13": {
       "attrs": {
        "height": 0.8,
        "width": 0.8,
        "x": 0.1,
        "y": 0.1
       },
       "content": {
        "cell": "d4475d03-4dcd-44bc-ac64-74cf28c7e7f1",
        "part": "whole"
       },
       "id": "af5053cb-bdb3-477a-8bd4-015b3f1a3f13"
      }
     }
    },
    "ee132fc5-5793-4d44-b2b3-cb081ae4fc3a": {
     "id": "ee132fc5-5793-4d44-b2b3-cb081ae4fc3a",
     "prev": "4d95054b-55ab-4479-9eaa-049bd96d838a",
     "regions": {
      "33917818-e7ed-41ea-8951-ff077868309d": {
       "attrs": {
        "height": 0.8,
        "width": 0.8,
        "x": 0.1,
        "y": 0.1
       },
       "content": {
        "cell": "be49698a-1c10-4ca4-a41b-b506816ef30c",
        "part": "whole"
       },
       "id": "33917818-e7ed-41ea-8951-ff077868309d"
      }
     }
    },
    "f35a1c5f-d881-4b37-89cc-f1ee81cf15a8": {
     "id": "f35a1c5f-d881-4b37-89cc-f1ee81cf15a8",
     "prev": "190b504a-efe1-432d-aac5-898f6068aab3",
     "regions": {
      "6d11a097-a503-4393-8d2f-bf1e4b2651aa": {
       "attrs": {
        "height": 0.8,
        "width": 0.8,
        "x": 0.1,
        "y": 0.1
       },
       "content": {
        "cell": "4f78db08-0796-4115-9229-45913710ac4b",
        "part": "whole"
       },
       "id": "6d11a097-a503-4393-8d2f-bf1e4b2651aa"
      }
     }
    },
    "f4305ace-780d-4084-9329-96f8ac601e9f": {
     "id": "f4305ace-780d-4084-9329-96f8ac601e9f",
     "prev": "837422d0-5288-4293-8be3-63fa16fd79ac",
     "regions": {
      "98501b18-6a26-4032-bff3-13a1ffb518d9": {
       "attrs": {
        "height": 0.8,
        "width": 0.8,
        "x": 0.1,
        "y": 0.1
       },
       "content": {
        "cell": "ce4d5f2e-0750-4ae0-9ffe-c5083014385d",
        "part": "whole"
       },
       "id": "98501b18-6a26-4032-bff3-13a1ffb518d9"
      }
     }
    }
   },
   "themes": {}
  }
 },
 "nbformat": 4,
 "nbformat_minor": 0
}
